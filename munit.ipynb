{
  "nbformat": 4,
  "nbformat_minor": 0,
  "metadata": {
    "colab": {
      "name": "munit.ipynb",
      "provenance": [],
      "collapsed_sections": [],
      "include_colab_link": true
    },
    "kernelspec": {
      "name": "python3",
      "display_name": "Python 3"
    },
    "accelerator": "GPU"
  },
  "cells": [
    {
      "cell_type": "markdown",
      "metadata": {
        "id": "view-in-github",
        "colab_type": "text"
      },
      "source": [
        "<a href=\"https://colab.research.google.com/github/safwanp314/cari-net/blob/master/munit.ipynb\" target=\"_parent\"><img src=\"https://colab.research.google.com/assets/colab-badge.svg\" alt=\"Open In Colab\"/></a>"
      ]
    },
    {
      "cell_type": "code",
      "metadata": {
        "id": "Vzo-ip4W0y0J",
        "colab_type": "code",
        "colab": {}
      },
      "source": [
        "%tensorflow_version 2.x"
      ],
      "execution_count": 0,
      "outputs": []
    },
    {
      "cell_type": "code",
      "metadata": {
        "id": "S3vD9N_S5HIO",
        "colab_type": "code",
        "colab": {
          "base_uri": "https://localhost:8080/",
          "height": 632
        },
        "outputId": "a2a911d2-d82e-4266-fe1c-f84bc49a02a9"
      },
      "source": [
        "!pip install tensorflow-addons"
      ],
      "execution_count": 67,
      "outputs": [
        {
          "output_type": "stream",
          "text": [
            "Requirement already satisfied: tensorflow-addons in /usr/local/lib/python3.6/dist-packages (0.6.0)\n",
            "Requirement already satisfied: tensorflow-gpu==2.0.0 in /usr/local/lib/python3.6/dist-packages (from tensorflow-addons) (2.0.0)\n",
            "Requirement already satisfied: six>=1.10.0 in /tensorflow-2.0.0/python3.6 (from tensorflow-addons) (1.13.0)\n",
            "Requirement already satisfied: google-pasta>=0.1.6 in /tensorflow-2.0.0/python3.6 (from tensorflow-gpu==2.0.0->tensorflow-addons) (0.1.8)\n",
            "Requirement already satisfied: numpy<2.0,>=1.16.0 in /tensorflow-2.0.0/python3.6 (from tensorflow-gpu==2.0.0->tensorflow-addons) (1.17.4)\n",
            "Requirement already satisfied: keras-preprocessing>=1.0.5 in /tensorflow-2.0.0/python3.6 (from tensorflow-gpu==2.0.0->tensorflow-addons) (1.1.0)\n",
            "Requirement already satisfied: termcolor>=1.1.0 in /tensorflow-2.0.0/python3.6 (from tensorflow-gpu==2.0.0->tensorflow-addons) (1.1.0)\n",
            "Requirement already satisfied: wheel>=0.26 in /tensorflow-2.0.0/python3.6 (from tensorflow-gpu==2.0.0->tensorflow-addons) (0.33.6)\n",
            "Requirement already satisfied: tensorboard<2.1.0,>=2.0.0 in /tensorflow-2.0.0/python3.6 (from tensorflow-gpu==2.0.0->tensorflow-addons) (2.0.2)\n",
            "Requirement already satisfied: absl-py>=0.7.0 in /tensorflow-2.0.0/python3.6 (from tensorflow-gpu==2.0.0->tensorflow-addons) (0.8.1)\n",
            "Requirement already satisfied: gast==0.2.2 in /tensorflow-2.0.0/python3.6 (from tensorflow-gpu==2.0.0->tensorflow-addons) (0.2.2)\n",
            "Requirement already satisfied: opt-einsum>=2.3.2 in /tensorflow-2.0.0/python3.6 (from tensorflow-gpu==2.0.0->tensorflow-addons) (3.1.0)\n",
            "Requirement already satisfied: tensorflow-estimator<2.1.0,>=2.0.0 in /tensorflow-2.0.0/python3.6 (from tensorflow-gpu==2.0.0->tensorflow-addons) (2.0.1)\n",
            "Requirement already satisfied: keras-applications>=1.0.8 in /tensorflow-2.0.0/python3.6 (from tensorflow-gpu==2.0.0->tensorflow-addons) (1.0.8)\n",
            "Requirement already satisfied: protobuf>=3.6.1 in /tensorflow-2.0.0/python3.6 (from tensorflow-gpu==2.0.0->tensorflow-addons) (3.11.0)\n",
            "Requirement already satisfied: astor>=0.6.0 in /tensorflow-2.0.0/python3.6 (from tensorflow-gpu==2.0.0->tensorflow-addons) (0.8.0)\n",
            "Requirement already satisfied: wrapt>=1.11.1 in /tensorflow-2.0.0/python3.6 (from tensorflow-gpu==2.0.0->tensorflow-addons) (1.11.2)\n",
            "Requirement already satisfied: grpcio>=1.8.6 in /tensorflow-2.0.0/python3.6 (from tensorflow-gpu==2.0.0->tensorflow-addons) (1.25.0)\n",
            "Requirement already satisfied: requests<3,>=2.21.0 in /tensorflow-2.0.0/python3.6 (from tensorboard<2.1.0,>=2.0.0->tensorflow-gpu==2.0.0->tensorflow-addons) (2.22.0)\n",
            "Requirement already satisfied: werkzeug>=0.11.15 in /tensorflow-2.0.0/python3.6 (from tensorboard<2.1.0,>=2.0.0->tensorflow-gpu==2.0.0->tensorflow-addons) (0.16.0)\n",
            "Requirement already satisfied: google-auth<2,>=1.6.3 in /tensorflow-2.0.0/python3.6 (from tensorboard<2.1.0,>=2.0.0->tensorflow-gpu==2.0.0->tensorflow-addons) (1.7.1)\n",
            "Requirement already satisfied: setuptools>=41.0.0 in /tensorflow-2.0.0/python3.6 (from tensorboard<2.1.0,>=2.0.0->tensorflow-gpu==2.0.0->tensorflow-addons) (42.0.1)\n",
            "Requirement already satisfied: markdown>=2.6.8 in /tensorflow-2.0.0/python3.6 (from tensorboard<2.1.0,>=2.0.0->tensorflow-gpu==2.0.0->tensorflow-addons) (3.1.1)\n",
            "Requirement already satisfied: google-auth-oauthlib<0.5,>=0.4.1 in /tensorflow-2.0.0/python3.6 (from tensorboard<2.1.0,>=2.0.0->tensorflow-gpu==2.0.0->tensorflow-addons) (0.4.1)\n",
            "Requirement already satisfied: h5py in /tensorflow-2.0.0/python3.6 (from keras-applications>=1.0.8->tensorflow-gpu==2.0.0->tensorflow-addons) (2.10.0)\n",
            "Requirement already satisfied: idna<2.9,>=2.5 in /tensorflow-2.0.0/python3.6 (from requests<3,>=2.21.0->tensorboard<2.1.0,>=2.0.0->tensorflow-gpu==2.0.0->tensorflow-addons) (2.8)\n",
            "Requirement already satisfied: certifi>=2017.4.17 in /tensorflow-2.0.0/python3.6 (from requests<3,>=2.21.0->tensorboard<2.1.0,>=2.0.0->tensorflow-gpu==2.0.0->tensorflow-addons) (2019.9.11)\n",
            "Requirement already satisfied: chardet<3.1.0,>=3.0.2 in /tensorflow-2.0.0/python3.6 (from requests<3,>=2.21.0->tensorboard<2.1.0,>=2.0.0->tensorflow-gpu==2.0.0->tensorflow-addons) (3.0.4)\n",
            "Requirement already satisfied: urllib3!=1.25.0,!=1.25.1,<1.26,>=1.21.1 in /tensorflow-2.0.0/python3.6 (from requests<3,>=2.21.0->tensorboard<2.1.0,>=2.0.0->tensorflow-gpu==2.0.0->tensorflow-addons) (1.25.7)\n",
            "Requirement already satisfied: cachetools<3.2,>=2.0.0 in /tensorflow-2.0.0/python3.6 (from google-auth<2,>=1.6.3->tensorboard<2.1.0,>=2.0.0->tensorflow-gpu==2.0.0->tensorflow-addons) (3.1.1)\n",
            "Requirement already satisfied: rsa<4.1,>=3.1.4 in /tensorflow-2.0.0/python3.6 (from google-auth<2,>=1.6.3->tensorboard<2.1.0,>=2.0.0->tensorflow-gpu==2.0.0->tensorflow-addons) (4.0)\n",
            "Requirement already satisfied: pyasn1-modules>=0.2.1 in /tensorflow-2.0.0/python3.6 (from google-auth<2,>=1.6.3->tensorboard<2.1.0,>=2.0.0->tensorflow-gpu==2.0.0->tensorflow-addons) (0.2.7)\n",
            "Requirement already satisfied: requests-oauthlib>=0.7.0 in /tensorflow-2.0.0/python3.6 (from google-auth-oauthlib<0.5,>=0.4.1->tensorboard<2.1.0,>=2.0.0->tensorflow-gpu==2.0.0->tensorflow-addons) (1.3.0)\n",
            "Requirement already satisfied: pyasn1>=0.1.3 in /tensorflow-2.0.0/python3.6 (from rsa<4.1,>=3.1.4->google-auth<2,>=1.6.3->tensorboard<2.1.0,>=2.0.0->tensorflow-gpu==2.0.0->tensorflow-addons) (0.4.8)\n",
            "Requirement already satisfied: oauthlib>=3.0.0 in /tensorflow-2.0.0/python3.6 (from requests-oauthlib>=0.7.0->google-auth-oauthlib<0.5,>=0.4.1->tensorboard<2.1.0,>=2.0.0->tensorflow-gpu==2.0.0->tensorflow-addons) (3.1.0)\n"
          ],
          "name": "stdout"
        }
      ]
    },
    {
      "cell_type": "code",
      "metadata": {
        "id": "dxBrkZxTd2qu",
        "colab_type": "code",
        "colab": {}
      },
      "source": [
        "import numpy as np\n",
        "import tensorflow as tf\n",
        "from tensorflow.keras.models import Sequential, Model\n",
        "from tensorflow.keras.layers import *\n",
        "from tensorflow_addons.layers import InstanceNormalization, GroupNormalization\n",
        "from tensorflow.keras.activations import relu\n",
        "from tensorflow.keras.optimizers import Adam\n",
        "from tensorflow.keras.regularizers import l2\n",
        "from tensorflow.keras.metrics import mse\n",
        "import tensorflow.keras.backend as K"
      ],
      "execution_count": 0,
      "outputs": []
    },
    {
      "cell_type": "code",
      "metadata": {
        "id": "GDpOcDi09IOC",
        "colab_type": "code",
        "colab": {}
      },
      "source": [
        "import os\n",
        "import sys\n",
        "from PIL import Image\n",
        "import matplotlib.pyplot as plt\n",
        "%matplotlib inline"
      ],
      "execution_count": 0,
      "outputs": []
    },
    {
      "cell_type": "code",
      "metadata": {
        "id": "WzNlXhR6Z84m",
        "colab_type": "code",
        "colab": {}
      },
      "source": [
        "# Architecture configs\n",
        "IMAGE_SHAPE = (128, 128, 3)\n",
        "\n",
        "# number of input channels of generators\n",
        "nc_in = 3\n",
        "\n",
        "# style latent dim\n",
        "n_dim_style = 16\n",
        "\n",
        "# number of residual blocks in decoder and content encoder\n",
        "n_resblocks = 3\n",
        "\n",
        "# number of adain dim\n",
        "n_dim_adain = 256\n",
        "\n",
        "# number of noise dim\n",
        "n_dim_noise = 128\n",
        "\n",
        "# number of channels of the first conv2d of encoder\n",
        "nc_base = 64\n",
        "\n",
        "# number of style encoder dowscaling\n",
        "n_dowscale_style = 4\n",
        "\n",
        "# number of content encoder dowscaling\n",
        "n_downscale_content = 2\n",
        "\n",
        "# use group norm or layer norm\n",
        "use_groupnorm=True\n",
        "\n",
        "# batch size\n",
        "batch_size = 1"
      ],
      "execution_count": 0,
      "outputs": []
    },
    {
      "cell_type": "code",
      "metadata": {
        "id": "-YJcCsXNbYfa",
        "colab_type": "code",
        "colab": {}
      },
      "source": [
        "##################################################################################\n",
        "# Basic Blocks\n",
        "##################################################################################\n",
        "def conv_block(input_tensor, f, k=3, strides=2, use_norm=False):\n",
        "    x = input_tensor\n",
        "    x = ReflectPadding2D(x)\n",
        "    x = Conv2D(f, kernel_size=k, strides=strides, kernel_initializer='he_normal',\n",
        "               kernel_regularizer=l2(1e-4),\n",
        "               use_bias=(not use_norm), padding='valid')(x)\n",
        "    if use_norm:\n",
        "        x = InstanceNormalization(epsilon=1e-5)(x)\n",
        "    x = Activation('relu')(x)\n",
        "    return x\n",
        "\n",
        "def upscale_nn(inp, f, use_norm=False):\n",
        "    x = inp\n",
        "    x = UpSampling2D()(x)\n",
        "    x = ReflectPadding2D(x, 2)\n",
        "    x = Conv2D(f, kernel_size=5, kernel_initializer='he_normal', \n",
        "               kernel_regularizer=l2(1e-4), \n",
        "               use_bias=(not use_norm), padding='valid')(x)\n",
        "    if use_norm:\n",
        "        if use_groupnorm:\n",
        "            x = GroupNormalization(groups=min(n_dim_adain, 32))(x)\n",
        "        else:\n",
        "            x = GroupNormalization(groups=f)(x) # group=f equivalant to layer norm\n",
        "    x = Activation('relu')(x)\n",
        "    return x\n",
        "  \n",
        "def ReflectPadding2D(x, pad=1):\n",
        "    x = Lambda(lambda x: tf.pad(x, [[0, 0], [pad, pad], [pad, pad], [0, 0]], mode='REFLECT'))(x)\n",
        "    return x\n",
        "\n",
        "def add_noise(inp, noise):\n",
        "  x = inp\n",
        "  width = x.shape[1]\n",
        "  height = x.shape[2]\n",
        "  n_feature = x.shape[3]\n",
        "  noise_feature = 1\n",
        "  size = int(0.5 * width) * int(0.5 * height) * noise_feature;\n",
        "  noise_x = Dense(size)(noise)\n",
        "  noise_x = Reshape(target_shape=(int(0.5 * width), int(0.5 * height), noise_feature))(noise_x)\n",
        "  noise_x = UpSampling2D()(noise_x)\n",
        "  noise_x = Conv2D(n_feature, kernel_size=3, kernel_initializer='he_normal', padding='same')(noise_x)\n",
        "  noise_x = Reshape(target_shape=(width, height, n_feature))(noise_x)\n",
        "  return x + noise_x"
      ],
      "execution_count": 0,
      "outputs": []
    },
    {
      "cell_type": "code",
      "metadata": {
        "id": "GE0H-Dy25NEM",
        "colab_type": "code",
        "colab": {}
      },
      "source": [
        "def build_style_encoder(nc_in=3, input_size=IMAGE_SHAPE[0], n_dim_style=n_dim_style):\n",
        "  # Style encoder architecture \n",
        "  inp = Input(shape=(input_size, input_size, nc_in))\n",
        "  x = ReflectPadding2D(inp, 3)\n",
        "  x = Conv2D(64, kernel_size=7, kernel_initializer='he_normal', \n",
        "              kernel_regularizer=l2(1e-4),\n",
        "              use_bias=True, padding='valid')(x)\n",
        "  x = Activation('relu')(x)   \n",
        "  x = Dropout(0.1)(x)\n",
        "\n",
        "  dim = 1\n",
        "  for i in range(n_dowscale_style):\n",
        "      dim = 4 if dim >= 4 else dim*2\n",
        "      x = conv_block(x, dim * nc_base)\n",
        "      x = Dropout(0.1)(x)\n",
        "\n",
        "  x = GlobalAveragePooling2D()(x)    \n",
        "      \n",
        "  # Style code\n",
        "  style_code = Dense(n_dim_style, kernel_regularizer=l2(1e-4))(x)\n",
        "  \n",
        "  return Model(inp, style_code, name='style_enc')"
      ],
      "execution_count": 0,
      "outputs": []
    },
    {
      "cell_type": "code",
      "metadata": {
        "id": "qEoCtJ_ZdteL",
        "colab_type": "code",
        "colab": {}
      },
      "source": [
        "style_encoder = build_style_encoder()"
      ],
      "execution_count": 0,
      "outputs": []
    },
    {
      "cell_type": "code",
      "metadata": {
        "id": "29LdqXn4ZYy7",
        "colab_type": "code",
        "colab": {}
      },
      "source": [
        "def build_content_encoder(nc_in=3, input_size=IMAGE_SHAPE[0], n_resblocks=n_resblocks):\n",
        "  # Content encoder architecture \n",
        "  def res_block_content(input_tensor, f):\n",
        "      x = input_tensor\n",
        "      x = ReflectPadding2D(x)\n",
        "      x = Conv2D(f, kernel_size=3, kernel_initializer='he_normal', \n",
        "                  kernel_regularizer=l2(1e-4),\n",
        "                  use_bias=False, padding='valid')(x)\n",
        "      x = InstanceNormalization(epsilon=1e-5)(x)\n",
        "      x = Activation('relu')(x)\n",
        "      x = ReflectPadding2D(x)\n",
        "      x = Conv2D(f, kernel_size=3, kernel_initializer='he_normal', \n",
        "                  kernel_regularizer=l2(1e-4),\n",
        "                  use_bias=False, padding='valid')(x)\n",
        "      x = Dropout(0.1)(x)\n",
        "      x = InstanceNormalization(epsilon=1e-5)(x)\n",
        "      x = add([x, input_tensor])\n",
        "      return x      \n",
        "  \n",
        "  inp = Input(shape=(input_size, input_size, nc_in))\n",
        "  x = ReflectPadding2D(inp, 3)\n",
        "  x = Conv2D(64, kernel_size=7, kernel_initializer='he_normal', \n",
        "              kernel_regularizer=l2(1e-4),\n",
        "              use_bias=False, padding=\"valid\")(x)\n",
        "  x = InstanceNormalization()(x) #\n",
        "  x = Activation('relu')(x) #\n",
        "  x = Dropout(0.1)(x)\n",
        " \n",
        "  dim = 1\n",
        "  for i in range(n_downscale_content):\n",
        "      dim = 4 if dim >= 4 else dim*2\n",
        "      x = conv_block(x, min(n_dim_adain, dim*nc_base), use_norm=True)\n",
        "      x = Dropout(0.1)(x)\n",
        "\n",
        "  for i in range(n_resblocks):\n",
        "      x = res_block_content(x, min(n_dim_adain, dim*nc_base))\n",
        "      x = Dropout(0.1)(x)\n",
        "\n",
        "  # Content code\n",
        "  content_code = x\n",
        "  return Model(inp, content_code, name='content_enc')"
      ],
      "execution_count": 0,
      "outputs": []
    },
    {
      "cell_type": "code",
      "metadata": {
        "id": "iRB9gWEggvFk",
        "colab_type": "code",
        "colab": {}
      },
      "source": [
        "content_encoder = build_content_encoder()"
      ],
      "execution_count": 0,
      "outputs": []
    },
    {
      "cell_type": "code",
      "metadata": {
        "id": "WJCTaheGcwFZ",
        "colab_type": "code",
        "colab": {}
      },
      "source": [
        "def build_mlp(n_dim_style=n_dim_style, n_dim_adain=n_dim_adain, n_blk=3, n_adain=2*n_resblocks):\n",
        "    # MLP for AdaIN parameters\n",
        "    inp_style_code = Input(shape=(n_dim_style,))\n",
        "\n",
        "    adain_params = Dense(n_dim_adain, activation='relu')(inp_style_code)\n",
        "    for i in range(n_blk - 2):\n",
        "        adain_params = Dense(n_dim_adain, activation='relu')(adain_params)\n",
        "    adain_params = Dense(2*n_adain*n_dim_adain)(adain_params)\n",
        "    adain_params = Dropout(0.1)(adain_params)\n",
        "    return Model(inp_style_code, [adain_params], name='mlp')"
      ],
      "execution_count": 0,
      "outputs": []
    },
    {
      "cell_type": "code",
      "metadata": {
        "id": "LXrYA-j1_Zec",
        "colab_type": "code",
        "colab": {}
      },
      "source": [
        "def build_decoder(nc_in=n_dim_adain, input_size=IMAGE_SHAPE[0]//(2**n_downscale_content), n_dim_adain=n_dim_adain, n_resblocks=n_resblocks):\n",
        "  def adain(inp):\n",
        "      x = inp[0]\n",
        "\n",
        "      mean = tf.math.reduce_mean(x, axis=(1,2), keepdims=True)\n",
        "      var = tf.math.reduce_std(x, axis=(1,2), keepdims=True)\n",
        "      adain_bias = inp[1]\n",
        "      adain_bias = K.reshape(adain_bias, (-1, 1, 1, n_dim_adain))\n",
        "      adain_weight = inp[2]\n",
        "      adain_weight = K.reshape(adain_weight, (-1, 1, 1, n_dim_adain))        \n",
        "      out = tf.nn.batch_normalization(x, mean, var, adain_bias, adain_weight, variance_epsilon=1e-7)\n",
        "      return out\n",
        "      \n",
        "  def AdaptiveInstanceNorm2d(inp, adain_params, idx_adain):\n",
        "      assert inp.shape[-1] == n_dim_adain\n",
        "      x = inp\n",
        "      idx_head = idx_adain*2*n_dim_adain\n",
        "      adain_weight = Lambda(lambda x: x[:, idx_head:idx_head+n_dim_adain])(adain_params)\n",
        "      adain_bias = Lambda(lambda x: x[:, idx_head+n_dim_adain:idx_head+2*n_dim_adain])(adain_params)\n",
        "      out = Lambda(adain)([x, adain_bias, adain_weight])\n",
        "      return out\n",
        "    \n",
        "  def res_block_adain(inp, f, adain_params, idx_adain):\n",
        "      x = inp\n",
        "      x = ReflectPadding2D(x)\n",
        "      x = Conv2D(f, kernel_size=3, kernel_initializer='he_normal', \n",
        "                  kernel_regularizer=l2(1e-4), bias_regularizer=l2(1e-4),\n",
        "                  use_bias=False, padding='valid')(x)\n",
        "      x = Lambda(lambda x: AdaptiveInstanceNorm2d(x[0], x[1], idx_adain))([x, adain_params])     \n",
        "      x = Activation('relu')(x)\n",
        "      x = Dropout(0.1)(x)\n",
        "      \n",
        "      x = ReflectPadding2D(x)\n",
        "      x = Conv2D(f, kernel_size=3, kernel_initializer='he_normal', \n",
        "                  kernel_regularizer=l2(1e-4), bias_regularizer=l2(1e-4),\n",
        "                  use_bias=False, padding='valid')(x)\n",
        "      x = Lambda(lambda x: AdaptiveInstanceNorm2d(x[0], x[1], idx_adain+1))([x, adain_params])    \n",
        "      \n",
        "      x = add([x, inp])\n",
        "      x = Dropout(0.1)(x)\n",
        "      return x  \n",
        "  \n",
        "  inp_style = Input((n_dim_style,))\n",
        "  style_code = inp_style\n",
        "  mlp = build_mlp()\n",
        "  adain_params = mlp(style_code)\n",
        "  \n",
        "  inp_content = Input(shape=(input_size, input_size, nc_in))\n",
        "  content_code = inp_content\n",
        "  x = inp_content\n",
        "  \n",
        "  inp_noise = Input(shape=(n_dim_noise,))\n",
        "\n",
        "  for i in range(n_resblocks):\n",
        "      x = res_block_adain(x, nc_in, adain_params, 2*i) \n",
        "      \n",
        "  dim = 1\n",
        "  for i in range(n_downscale_content):\n",
        "      dim = dim if nc_in//dim <= 64 else dim*2\n",
        "      x = upscale_nn(x, nc_in//dim, use_norm=True)\n",
        "      x = add_noise(x, inp_noise)\n",
        "      x = Dropout(0.1)(x)\n",
        "\n",
        "  x = ReflectPadding2D(x, 3)\n",
        "  out = Conv2D(3, kernel_size=7, kernel_initializer='he_normal', \n",
        "                kernel_regularizer=l2(1e-4), \n",
        "                padding='valid', activation='tanh')(x)\n",
        "  return Model([inp_style, inp_content, inp_noise], out , name='decoder')"
      ],
      "execution_count": 0,
      "outputs": []
    },
    {
      "cell_type": "code",
      "metadata": {
        "id": "Fqxw9CZmFNyl",
        "colab_type": "code",
        "colab": {}
      },
      "source": [
        "decoder = build_decoder()"
      ],
      "execution_count": 0,
      "outputs": []
    },
    {
      "cell_type": "code",
      "metadata": {
        "id": "FBGjvC3YJ5d-",
        "colab_type": "code",
        "colab": {}
      },
      "source": [
        "input = Input(shape=IMAGE_SHAPE)\n",
        "noise = Input(shape=(n_dim_noise,))\n",
        "cross_style_code = Input(shape=(n_dim_style,))\n",
        "\n",
        "style_code = style_encoder(input)\n",
        "contnet_code = content_encoder(input)\n",
        "\n",
        "decoded = decoder([style_code, contnet_code, noise])\n",
        "\n",
        "style_code_prime = style_encoder(decoded)\n",
        "contnet_code_prime = content_encoder(decoded)\n",
        "\n",
        "content_input_width = IMAGE_SHAPE[0]//(2**n_downscale_content)\n",
        "content_input_height = IMAGE_SHAPE[1]//(2**n_downscale_content)\n",
        "\n",
        "# cross_style_code = tf.random.normal(shape=(batch_size, n_dim_style), mean=0, stddev=1.0)\n",
        "# cross_contnet_code = tf.random.normal(shape=(batch_size, content_input_width, content_input_height, n_dim_adain), mean=input_mean, stddev=input_stddev)\n",
        "\n",
        "cross_decoded_a = decoder([cross_style_code, contnet_code, noise])\n",
        "# cross_decoded_b = decoder([style_code, cross_contnet_code, noise])\n",
        "\n",
        "cross_style_code_a_prime = style_encoder(cross_decoded_a)\n",
        "cross_contnet_code_a_prime = content_encoder(cross_decoded_a)\n",
        "\n",
        "# cross_style_code_b_prime = style_encoder(cross_decoded_b)\n",
        "# cross_contnet_code_b_prime = content_encoder(cross_decoded_b)\n",
        "\n",
        "cross_decoded_style = decoder([style_code, cross_contnet_code_a_prime, noise])\n",
        "# cross_decoded_content = decoder([cross_style_code_b_prime, contnet_code, noise])"
      ],
      "execution_count": 0,
      "outputs": []
    },
    {
      "cell_type": "code",
      "metadata": {
        "id": "s8_NE6iU6MwX",
        "colab_type": "code",
        "colab": {}
      },
      "source": [
        "generator = Model([input, noise], decoded, name='generator')"
      ],
      "execution_count": 0,
      "outputs": []
    },
    {
      "cell_type": "code",
      "metadata": {
        "id": "tb7_2wq4edPE",
        "colab_type": "code",
        "colab": {
          "base_uri": "https://localhost:8080/",
          "height": 357
        },
        "outputId": "a878adf4-2b01-45fe-bd24-2d0673c221d7"
      },
      "source": [
        "generator.summary()"
      ],
      "execution_count": 81,
      "outputs": [
        {
          "output_type": "stream",
          "text": [
            "Model: \"generator\"\n",
            "__________________________________________________________________________________________________\n",
            "Layer (type)                    Output Shape         Param #     Connected to                     \n",
            "==================================================================================================\n",
            "input_16 (InputLayer)           [(None, 128, 128, 3) 0                                            \n",
            "__________________________________________________________________________________________________\n",
            "style_enc (Model)               (None, 16)           1562768     input_16[0][0]                   \n",
            "__________________________________________________________________________________________________\n",
            "content_enc (Model)             (None, 32, 32, 256)  3920960     input_16[0][0]                   \n",
            "__________________________________________________________________________________________________\n",
            "input_17 (InputLayer)           [(None, 128)]        0                                            \n",
            "__________________________________________________________________________________________________\n",
            "decoder (Model)                 (None, 128, 128, 3)  6094787     style_enc[1][0]                  \n",
            "                                                                 content_enc[1][0]                \n",
            "                                                                 input_17[0][0]                   \n",
            "==================================================================================================\n",
            "Total params: 11,578,515\n",
            "Trainable params: 11,578,515\n",
            "Non-trainable params: 0\n",
            "__________________________________________________________________________________________________\n"
          ],
          "name": "stdout"
        }
      ]
    },
    {
      "cell_type": "code",
      "metadata": {
        "id": "kBNpg53ofZ1n",
        "colab_type": "code",
        "colab": {}
      },
      "source": [
        "gen_loss = K.sum(mse(input, decoded))\n",
        "\n",
        "style_loss = K.sum(mse(style_code, style_code_prime))\n",
        "content_loss = K.sum(mse(contnet_code, contnet_code_prime))\n",
        "\n",
        "# cross_content_loss = K.sum(mse(cross_contnet_code, cross_contnet_code_b_prime))\n",
        "cross_style_loss = K.sum(mse(cross_style_code, cross_style_code_a_prime))\n",
        "\n",
        "cross_gen_style_loss = K.sum(mse(input, cross_decoded_style))\n",
        "# cross_gen_content_loss = K.sum(mse(input, cross_decoded_content))\n",
        "\n",
        "loss = gen_loss + style_loss + cross_style_loss + cross_gen_style_loss + content_loss"
      ],
      "execution_count": 0,
      "outputs": []
    },
    {
      "cell_type": "code",
      "metadata": {
        "id": "dntYrhbdNpWB",
        "colab_type": "code",
        "colab": {
          "base_uri": "https://localhost:8080/",
          "height": 54
        },
        "outputId": "76feb939-da79-4c0a-af9d-4c64f7dbaf19"
      },
      "source": [
        "trainer = Model([input, noise, cross_style_code], decoded, name='trainer')\n",
        "trainer.add_loss(loss)\n",
        "trainer.compile(optimizer=Adam())"
      ],
      "execution_count": 83,
      "outputs": [
        {
          "output_type": "stream",
          "text": [
            "WARNING:tensorflow:Output decoder missing from loss dictionary. We assume this was done on purpose. The fit and evaluate APIs will not be expecting any data to be passed to decoder.\n"
          ],
          "name": "stdout"
        }
      ]
    },
    {
      "cell_type": "code",
      "metadata": {
        "id": "Doas4E9zLqfx",
        "colab_type": "code",
        "outputId": "44d4e87f-75e8-405d-c886-62b3c7b5cfa6",
        "colab": {
          "base_uri": "https://localhost:8080/",
          "height": 54
        }
      },
      "source": [
        "from google.colab import drive\n",
        "drive.mount('/content/drive')"
      ],
      "execution_count": 84,
      "outputs": [
        {
          "output_type": "stream",
          "text": [
            "Drive already mounted at /content/drive; to attempt to forcibly remount, call drive.mount(\"/content/drive\", force_remount=True).\n"
          ],
          "name": "stdout"
        }
      ]
    },
    {
      "cell_type": "code",
      "metadata": {
        "id": "jRiStYN-0BS3",
        "colab_type": "code",
        "colab": {}
      },
      "source": [
        "workspace_path = '/content/drive/My Drive/Deep Learning'"
      ],
      "execution_count": 0,
      "outputs": []
    },
    {
      "cell_type": "code",
      "metadata": {
        "id": "az3e7p4zOr5-",
        "colab_type": "code",
        "colab": {}
      },
      "source": [
        "def find_files(directory, extension):\n",
        "  try:\n",
        "    file_list = []\n",
        "    for file in os.listdir(directory):\n",
        "      if file.endswith('.' + extension):\n",
        "        file_list.append(os.path.splitext(os.path.basename(file))[0])\n",
        "    return file_list\n",
        "  except:\n",
        "    print('directory not found')"
      ],
      "execution_count": 0,
      "outputs": []
    },
    {
      "cell_type": "code",
      "metadata": {
        "id": "NVDUNGsiLyCO",
        "colab_type": "code",
        "colab": {}
      },
      "source": [
        "#!cp '$workspace_path/img_align_celeba.zip' .\n",
        "#!unzip -qq img_align_celeba.zip"
      ],
      "execution_count": 0,
      "outputs": []
    },
    {
      "cell_type": "code",
      "metadata": {
        "id": "G46RELT5PLIf",
        "colab_type": "code",
        "colab": {}
      },
      "source": [
        "input_path = './img_align_celeba'\n",
        "ext = 'jpg'\n",
        "input_image_files = find_files(input_path, ext)\n",
        "input_image_files.sort()"
      ],
      "execution_count": 0,
      "outputs": []
    },
    {
      "cell_type": "code",
      "metadata": {
        "id": "6jmf1iM34v7g",
        "colab_type": "code",
        "colab": {}
      },
      "source": [
        "input_image_files = input_image_files[30000:35000]"
      ],
      "execution_count": 0,
      "outputs": []
    },
    {
      "cell_type": "code",
      "metadata": {
        "id": "yPZUKsPz4Y2r",
        "colab_type": "code",
        "colab": {}
      },
      "source": [
        "# !cp '$workspace_path/cartoonset10k.zip' .\n",
        "# !unzip -qq cartoonset10k.zip"
      ],
      "execution_count": 0,
      "outputs": []
    },
    {
      "cell_type": "code",
      "metadata": {
        "id": "X-8wSKcq4Ul2",
        "colab_type": "code",
        "colab": {}
      },
      "source": [
        "input_path = './cartoonset10k'\n",
        "ext = 'png'\n",
        "input_image_files = find_files(input_path, ext)\n",
        "input_image_files.sort()"
      ],
      "execution_count": 0,
      "outputs": []
    },
    {
      "cell_type": "code",
      "metadata": {
        "id": "gCqPOAuz4ryJ",
        "colab_type": "code",
        "colab": {}
      },
      "source": [
        "input_image_files = input_image_files[0:5000]"
      ],
      "execution_count": 0,
      "outputs": []
    },
    {
      "cell_type": "code",
      "metadata": {
        "id": "aT6XKIGAPY3o",
        "colab_type": "code",
        "outputId": "ab17b507-1571-4133-8244-d857260a3f1e",
        "colab": {
          "base_uri": "https://localhost:8080/",
          "height": 51
        }
      },
      "source": [
        "x_train = []\n",
        "\n",
        "num_of_files = len(input_image_files)\n",
        "print('number of files', num_of_files)\n",
        "for idx, file in enumerate(input_image_files):\n",
        "  with Image.open(input_path + '/' + file + '.' + ext) as image:\n",
        "    if(image.mode != 'RGB'):\n",
        "      image = image.convert('RGB')\n",
        "    \n",
        "    new_width = IMAGE_SHAPE[0]\n",
        "    new_height = IMAGE_SHAPE[1]\n",
        "    width, height = image.size\n",
        "    aspect_ratio = width / height\n",
        "    if (width > height):\n",
        "      t_width = int(aspect_ratio * new_height)\n",
        "      image = image.resize((t_width, new_height))\n",
        "      left = int((t_width - new_width) / 2)\n",
        "      top = 0\n",
        "      right = int((t_width + new_width) / 2)\n",
        "      bottom = new_height\n",
        "    else:\n",
        "      t_height = int(new_width / aspect_ratio)\n",
        "      image = image.resize((new_width, t_height))\n",
        "      left = 0\n",
        "      top = int((t_height - new_height) / 2)\n",
        "      right = new_width\n",
        "      bottom = int((t_height + new_height) / 2)\n",
        "\n",
        "    image = image.crop((left, top, right, bottom))\n",
        "    x_train.append(np.array(image))\n",
        "  sys.stdout.write('\\r%.2f %%' % ((idx + 1) * 100.0 / num_of_files))\n",
        "\n",
        "x_train = np.array(x_train).astype('float32') / 255"
      ],
      "execution_count": 133,
      "outputs": [
        {
          "output_type": "stream",
          "text": [
            "number of files 5000\n",
            "100.00 %"
          ],
          "name": "stdout"
        }
      ]
    },
    {
      "cell_type": "code",
      "metadata": {
        "id": "iXLxiFNj3PHB",
        "colab_type": "code",
        "colab": {}
      },
      "source": [
        "# !cp '$workspace_path/munit_noise_style_enc_256_5.h5' .\n",
        "# style_encoder.load_weights('munit_noise_style_enc_256_5.h5')\n",
        "# !cp '$workspace_path/munit_noise_content_enc_256_5.h5' .\n",
        "# content_encoder.load_weights('munit_noise_content_enc_256_5.h5')\n",
        "# !cp '$workspace_path/munit_noise_decoder_256_5.h5' .\n",
        "# decoder.load_weights('munit_noise_decoder_256_5.h5')"
      ],
      "execution_count": 0,
      "outputs": []
    },
    {
      "cell_type": "code",
      "metadata": {
        "id": "O2JXjmXdjJWk",
        "colab_type": "code",
        "colab": {}
      },
      "source": [
        "epochs = 1\n",
        "init = 10"
      ],
      "execution_count": 0,
      "outputs": []
    },
    {
      "cell_type": "code",
      "metadata": {
        "id": "lrauduXASqd_",
        "colab_type": "code",
        "outputId": "59728570-958b-4c68-ecef-017e0b420972",
        "colab": {
          "base_uri": "https://localhost:8080/",
          "height": 51
        }
      },
      "source": [
        "for i in range(epochs):\n",
        "  noise = tf.random.normal(shape=(x_train.shape[0], n_dim_noise,))\n",
        "  cross_style_code = tf.random.normal(shape=(x_train.shape[0], n_dim_style,))\n",
        "  history = trainer.fit([x_train, noise, cross_style_code], batch_size=batch_size, epochs=1)\n",
        "  style_encoder.save('/content/drive/My Drive/Deep Learning/munit_noise_style_enc_256_'+ str(i + init) + '.h5', overwrite=True)\n",
        "  content_encoder.save('/content/drive/My Drive/Deep Learning/munit_noise_content_enc_256_'+ str(i + init) + '.h5', overwrite=True)\n",
        "  decoder.save('/content/drive/My Drive/Deep Learning/munit_noise_decoder_256_'+ str(i + init) + '.h5', overwrite=True)"
      ],
      "execution_count": 135,
      "outputs": [
        {
          "output_type": "stream",
          "text": [
            "Train on 5000 samples\n",
            "5000/5000 [==============================] - 519s 104ms/sample - loss: 240.4902\n"
          ],
          "name": "stdout"
        }
      ]
    },
    {
      "cell_type": "code",
      "metadata": {
        "id": "ORBeErKANCEw",
        "colab_type": "code",
        "colab": {}
      },
      "source": [
        "noise = tf.random.normal(shape=(100, n_dim_noise,))\n",
        "y_predict = generator.predict([x_train[0:100], noise])"
      ],
      "execution_count": 0,
      "outputs": []
    },
    {
      "cell_type": "code",
      "metadata": {
        "id": "17MvW7lXN0p5",
        "colab_type": "code",
        "colab": {}
      },
      "source": [
        "style_predicted = style_encoder.predict(x_train[0:100])"
      ],
      "execution_count": 0,
      "outputs": []
    },
    {
      "cell_type": "code",
      "metadata": {
        "id": "ViaiNe_EwGXx",
        "colab_type": "code",
        "colab": {}
      },
      "source": [
        "content_predicted = content_encoder.predict(x_train[0:100])"
      ],
      "execution_count": 0,
      "outputs": []
    },
    {
      "cell_type": "code",
      "metadata": {
        "id": "j0vofsObyJNc",
        "colab_type": "code",
        "colab": {}
      },
      "source": [
        "dec_style = tf.convert_to_tensor(style_predicted[0])\n",
        "dec_style = tf.reshape(dec_style, (1,16))\n",
        "\n",
        "dec_content = tf.convert_to_tensor(content_predicted[1])\n",
        "dec_content = tf.reshape(dec_content, (1,32,32,256))"
      ],
      "execution_count": 0,
      "outputs": []
    },
    {
      "cell_type": "code",
      "metadata": {
        "id": "0qCbcaStwNQ4",
        "colab_type": "code",
        "colab": {}
      },
      "source": [
        "noise = tf.random.normal(shape=(1, n_dim_noise,))\n",
        "decoder_predicted = decoder([dec_style, dec_content, noise])"
      ],
      "execution_count": 0,
      "outputs": []
    },
    {
      "cell_type": "code",
      "metadata": {
        "id": "1POW8XCay3-k",
        "colab_type": "code",
        "colab": {}
      },
      "source": [
        "generated_image = decoder_predicted[0]"
      ],
      "execution_count": 0,
      "outputs": []
    },
    {
      "cell_type": "code",
      "metadata": {
        "id": "ZE8MWrryN9Jq",
        "colab_type": "code",
        "outputId": "fbcde775-eeef-446c-bb08-999a09f4bd03",
        "colab": {
          "base_uri": "https://localhost:8080/",
          "height": 322
        }
      },
      "source": [
        "plt.imshow(generated_image)"
      ],
      "execution_count": 57,
      "outputs": [
        {
          "output_type": "stream",
          "text": [
            "Clipping input data to the valid range for imshow with RGB data ([0..1] for floats or [0..255] for integers).\n"
          ],
          "name": "stderr"
        },
        {
          "output_type": "execute_result",
          "data": {
            "text/plain": [
              "<matplotlib.image.AxesImage at 0x7f011188bb00>"
            ]
          },
          "metadata": {
            "tags": []
          },
          "execution_count": 57
        },
        {
          "output_type": "display_data",
          "data": {
            "image/png": "[encoded data removed]",
            "text/plain": [
              "<Figure size 432x288 with 1 Axes>"
            ]
          },
          "metadata": {
            "tags": []
          }
        }
      ]
    },
    {
      "cell_type": "code",
      "metadata": {
        "id": "xukCz1EjlVD6",
        "colab_type": "code",
        "outputId": "b4050159-8b99-4be6-9e97-ddc34e41bcd3",
        "colab": {
          "base_uri": "https://localhost:8080/",
          "height": 285
        }
      },
      "source": [
        "plt.imshow(y_predict[4])"
      ],
      "execution_count": 145,
      "outputs": [
        {
          "output_type": "execute_result",
          "data": {
            "text/plain": [
              "<matplotlib.image.AxesImage at 0x7f0101b9f438>"
            ]
          },
          "metadata": {
            "tags": []
          },
          "execution_count": 145
        },
        {
          "output_type": "display_data",
          "data": {
            "image/png": "[encoded data removed]",
            "text/plain": [
              "<Figure size 432x288 with 1 Axes>"
            ]
          },
          "metadata": {
            "tags": []
          }
        }
      ]
    },
    {
      "cell_type": "code",
      "metadata": {
        "id": "E-gtYh1lo2Xq",
        "colab_type": "code",
        "outputId": "ddc14524-4508-4223-bdaa-c5caf5e56665",
        "colab": {
          "base_uri": "https://localhost:8080/",
          "height": 285
        }
      },
      "source": [
        "plt.imshow(x_train[3])"
      ],
      "execution_count": 143,
      "outputs": [
        {
          "output_type": "execute_result",
          "data": {
            "text/plain": [
              "<matplotlib.image.AxesImage at 0x7f0101a48a20>"
            ]
          },
          "metadata": {
            "tags": []
          },
          "execution_count": 143
        },
        {
          "output_type": "display_data",
          "data": {
            "image/png": "[encoded data removed]",
            "text/plain": [
              "<Figure size 432x288 with 1 Axes>"
            ]
          },
          "metadata": {
            "tags": []
          }
        }
      ]
    },
    {
      "cell_type": "code",
      "metadata": {
        "id": "DUntTUv3Otnz",
        "colab_type": "code",
        "colab": {
          "base_uri": "https://localhost:8080/",
          "height": 285
        },
        "outputId": "c2ed5f5b-6b7e-4049-f17e-189100102eff"
      },
      "source": [
        "plt.imshow(x_train[1])"
      ],
      "execution_count": 93,
      "outputs": [
        {
          "output_type": "execute_result",
          "data": {
            "text/plain": [
              "<matplotlib.image.AxesImage at 0x7f0110fc8278>"
            ]
          },
          "metadata": {
            "tags": []
          },
          "execution_count": 93
        },
        {
          "output_type": "display_data",
          "data": {
            "image/png": "[encoded data removed]",
            "text/plain": [
              "<Figure size 432x288 with 1 Axes>"
            ]
          },
          "metadata": {
            "tags": []
          }
        }
      ]
    }
  ]
}