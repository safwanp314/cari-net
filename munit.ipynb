{
  "nbformat": 4,
  "nbformat_minor": 0,
  "metadata": {
    "colab": {
      "name": "munit.ipynb",
      "provenance": [],
      "collapsed_sections": [],
      "include_colab_link": true
    },
    "kernelspec": {
      "name": "python3",
      "display_name": "Python 3"
    },
    "accelerator": "GPU"
  },
  "cells": [
    {
      "cell_type": "markdown",
      "metadata": {
        "id": "view-in-github",
        "colab_type": "text"
      },
      "source": [
        "<a href=\"https://colab.research.google.com/github/safwanp314/cari-net/blob/master/munit.ipynb\" target=\"_parent\"><img src=\"https://colab.research.google.com/assets/colab-badge.svg\" alt=\"Open In Colab\"/></a>"
      ]
    },
    {
      "cell_type": "code",
      "metadata": {
        "id": "Vzo-ip4W0y0J",
        "colab_type": "code",
        "outputId": "641ee358-5785-4af1-9ad6-e6f2ca81cebf",
        "colab": {
          "base_uri": "https://localhost:8080/",
          "height": 34
        }
      },
      "source": [
        "%tensorflow_version 2.x"
      ],
      "execution_count": 1,
      "outputs": [
        {
          "output_type": "stream",
          "text": [
            "TensorFlow 2.x selected.\n"
          ],
          "name": "stdout"
        }
      ]
    },
    {
      "cell_type": "code",
      "metadata": {
        "id": "S3vD9N_S5HIO",
        "colab_type": "code",
        "colab": {}
      },
      "source": [
        "!pip install tensorflow-addons"
      ],
      "execution_count": 0,
      "outputs": []
    },
    {
      "cell_type": "code",
      "metadata": {
        "id": "dxBrkZxTd2qu",
        "colab_type": "code",
        "colab": {}
      },
      "source": [
        "import numpy as np\n",
        "import tensorflow as tf\n",
        "from tensorflow.keras.models import Sequential, Model\n",
        "from tensorflow.keras.layers import *\n",
        "from tensorflow_addons.layers import InstanceNormalization, GroupNormalization\n",
        "from tensorflow.keras.activations import relu\n",
        "from tensorflow.keras.optimizers import Adam\n",
        "from tensorflow.keras.regularizers import l2\n",
        "from tensorflow.keras.losses import mean_squared_error\n",
        "from tensorflow.keras.applications import  VGG19\n",
        "import tensorflow.keras.backend as K"
      ],
      "execution_count": 0,
      "outputs": []
    },
    {
      "cell_type": "code",
      "metadata": {
        "id": "GDpOcDi09IOC",
        "colab_type": "code",
        "colab": {}
      },
      "source": [
        "import os\n",
        "import sys\n",
        "from PIL import Image\n",
        "import matplotlib.pyplot as plt\n",
        "%matplotlib inline"
      ],
      "execution_count": 0,
      "outputs": []
    },
    {
      "cell_type": "code",
      "metadata": {
        "id": "WzNlXhR6Z84m",
        "colab_type": "code",
        "colab": {}
      },
      "source": [
        "# Architecture configs\n",
        "IMAGE_SHAPE = (128, 128, 3)\n",
        "\n",
        "# number of input channels of generators\n",
        "nc_in = 3\n",
        "\n",
        "# style latent dim\n",
        "n_dim_style = 16\n",
        "\n",
        "# number of residual blocks in decoder and content encoder\n",
        "n_resblocks = 3\n",
        "\n",
        "# number of adain dim\n",
        "n_dim_adain = 64\n",
        "\n",
        "# number of noise dim\n",
        "n_dim_noise = 128\n",
        "\n",
        "# number of channels of the first conv2d of encoder\n",
        "nc_base = 64\n",
        "\n",
        "# number of style encoder dowscaling\n",
        "n_dowscale_style = 4\n",
        "\n",
        "# number of content encoder dowscaling\n",
        "n_downscale_content = 2\n",
        "\n",
        "# use group norm or layer norm\n",
        "use_groupnorm=True\n",
        "\n",
        "# batch size\n",
        "batch_size = 1"
      ],
      "execution_count": 0,
      "outputs": []
    },
    {
      "cell_type": "code",
      "metadata": {
        "id": "wJlyiU5Mt_6q",
        "colab_type": "code",
        "colab": {}
      },
      "source": [
        "vgg = VGG19(include_top=True, weights='imagenet')\n",
        "vgg.trainable = False\n",
        "\n",
        "def vgg_layers(layer_names):\n",
        "  \"\"\" Creates a vgg model that returns a list of intermediate output values.\"\"\"\n",
        "  outputs = [vgg.get_layer(name).output for name in layer_names]\n",
        "  model = tf.keras.Model([vgg.input], outputs)\n",
        "  return model\n",
        "\n",
        "# Content layer where will pull our feature maps\n",
        "content_layers = ['block5_conv3']\n",
        "content_extractor = vgg_layers(content_layers)"
      ],
      "execution_count": 0,
      "outputs": []
    },
    {
      "cell_type": "code",
      "metadata": {
        "id": "-YJcCsXNbYfa",
        "colab_type": "code",
        "colab": {}
      },
      "source": [
        "##################################################################################\n",
        "# Basic Blocks\n",
        "##################################################################################\n",
        "def conv_block(input_tensor, f, k=3, strides=2, use_norm=False):\n",
        "    x = input_tensor\n",
        "    x = ReflectPadding2D(x)\n",
        "    x = Conv2D(f, kernel_size=k, strides=strides, kernel_initializer='he_normal',\n",
        "               kernel_regularizer=l2(1e-4),\n",
        "               use_bias=(not use_norm), padding='valid')(x)\n",
        "    if use_norm:\n",
        "        x = InstanceNormalization(epsilon=1e-5)(x)\n",
        "    x = Activation('relu')(x)\n",
        "    return x\n",
        "\n",
        "def upscale_nn(inp, f, use_norm=False):\n",
        "    x = inp\n",
        "    x = UpSampling2D()(x)\n",
        "    x = ReflectPadding2D(x, 2)\n",
        "    x = Conv2D(f, kernel_size=5, kernel_initializer='he_normal', \n",
        "               kernel_regularizer=l2(1e-4), \n",
        "               use_bias=(not use_norm), padding='valid')(x)\n",
        "    if use_norm:\n",
        "        if use_groupnorm:\n",
        "            x = GroupNormalization(groups=min(n_dim_adain, 32))(x)\n",
        "        else:\n",
        "            x = GroupNormalization(groups=f)(x) # group=f equivalant to layer norm\n",
        "    x = Activation('relu')(x)\n",
        "    return x\n",
        "  \n",
        "def ReflectPadding2D(x, pad=1):\n",
        "    x = Lambda(lambda x: tf.pad(x, [[0, 0], [pad, pad], [pad, pad], [0, 0]], mode='REFLECT'))(x)\n",
        "    return x\n",
        "\n",
        "def add_noise(inp, noise):\n",
        "  x = inp\n",
        "  width = x.shape[1]\n",
        "  height = x.shape[2]\n",
        "  n_feature = x.shape[3]\n",
        "  noise_feature = 1\n",
        "  size = int(0.5 * width) * int(0.5 * height) * noise_feature;\n",
        "  noise_x = Dense(size)(noise)\n",
        "  noise_x = Reshape(target_shape=(int(0.5 * width), int(0.5 * height), noise_feature))(noise_x)\n",
        "  noise_x = UpSampling2D()(noise_x)\n",
        "  noise_x = Conv2D(n_feature, kernel_size=3, kernel_initializer='he_normal', padding='same')(noise_x)\n",
        "  noise_x = Reshape(target_shape=(width, height, n_feature))(noise_x)\n",
        "  return x + noise_x"
      ],
      "execution_count": 0,
      "outputs": []
    },
    {
      "cell_type": "code",
      "metadata": {
        "id": "GE0H-Dy25NEM",
        "colab_type": "code",
        "colab": {}
      },
      "source": [
        "def build_style_encoder(nc_in=3, input_size=IMAGE_SHAPE[0], n_dim_style=n_dim_style):\n",
        "  # Style encoder architecture \n",
        "  inp = Input(shape=(input_size, input_size, nc_in))\n",
        "  x = ReflectPadding2D(inp, 3)\n",
        "  x = Conv2D(64, kernel_size=7, kernel_initializer='he_normal', \n",
        "              kernel_regularizer=l2(1e-4),\n",
        "              use_bias=True, padding='valid')(x)\n",
        "  x = Activation('relu')(x)   \n",
        "  x = Dropout(0.1)(x)\n",
        "\n",
        "  dim = 1\n",
        "  for i in range(n_dowscale_style):\n",
        "      dim = 4 if dim >= 4 else dim*2\n",
        "      x = conv_block(x, dim * nc_base)\n",
        "      x = Dropout(0.1)(x)\n",
        "\n",
        "  x = GlobalAveragePooling2D()(x)    \n",
        "      \n",
        "  # Style code\n",
        "  style_code = Dense(n_dim_style, kernel_regularizer=l2(1e-4))(x)\n",
        "  \n",
        "  return Model(inp, style_code, name='style_enc')"
      ],
      "execution_count": 0,
      "outputs": []
    },
    {
      "cell_type": "code",
      "metadata": {
        "id": "29LdqXn4ZYy7",
        "colab_type": "code",
        "colab": {}
      },
      "source": [
        "def build_content_encoder(nc_in=3, input_size=IMAGE_SHAPE[0], n_resblocks=n_resblocks):\n",
        "  # Content encoder architecture \n",
        "  def res_block_content(input_tensor, f):\n",
        "      x = input_tensor\n",
        "      x = ReflectPadding2D(x)\n",
        "      x = Conv2D(f, kernel_size=3, kernel_initializer='he_normal', \n",
        "                  kernel_regularizer=l2(1e-4),\n",
        "                  use_bias=False, padding='valid')(x)\n",
        "      x = InstanceNormalization(epsilon=1e-5)(x)\n",
        "      x = Activation('relu')(x)\n",
        "      x = ReflectPadding2D(x)\n",
        "      x = Conv2D(f, kernel_size=3, kernel_initializer='he_normal', \n",
        "                  kernel_regularizer=l2(1e-4),\n",
        "                  use_bias=False, padding='valid')(x)\n",
        "      x = Dropout(0.1)(x)\n",
        "      x = InstanceNormalization(epsilon=1e-5)(x)\n",
        "      x = add([x, input_tensor])\n",
        "      return x      \n",
        "  \n",
        "  inp = Input(shape=(input_size, input_size, nc_in))\n",
        "  x = ReflectPadding2D(inp, 3)\n",
        "  x = Conv2D(64, kernel_size=7, kernel_initializer='he_normal', \n",
        "              kernel_regularizer=l2(1e-4),\n",
        "              use_bias=False, padding=\"valid\")(x)\n",
        "  x = InstanceNormalization()(x) #\n",
        "  x = Activation('relu')(x) #\n",
        "  x = Dropout(0.1)(x)\n",
        " \n",
        "  dim = 1\n",
        "  for i in range(n_downscale_content):\n",
        "      dim = 4 if dim >= 4 else dim*2\n",
        "      x = conv_block(x, min(n_dim_adain, dim*nc_base), use_norm=True)\n",
        "      x = Dropout(0.1)(x)\n",
        "\n",
        "  for i in range(n_resblocks):\n",
        "      x = res_block_content(x, min(n_dim_adain, dim*nc_base))\n",
        "      x = Dropout(0.1)(x)\n",
        "\n",
        "  # Content code\n",
        "  content_code = x\n",
        "  return Model(inp, content_code, name='content_enc')"
      ],
      "execution_count": 0,
      "outputs": []
    },
    {
      "cell_type": "code",
      "metadata": {
        "id": "WJCTaheGcwFZ",
        "colab_type": "code",
        "colab": {}
      },
      "source": [
        "def build_mlp(n_dim_style=n_dim_style, n_dim_adain=n_dim_adain, n_blk=3, n_adain=2*n_resblocks):\n",
        "    # MLP for AdaIN parameters\n",
        "    inp_style_code = Input(shape=(n_dim_style,))\n",
        "\n",
        "    adain_params = Dense(n_dim_adain, activation='relu')(inp_style_code)\n",
        "    for i in range(n_blk - 2):\n",
        "        adain_params = Dense(n_dim_adain, activation='relu')(adain_params)\n",
        "    adain_params = Dense(2*n_adain*n_dim_adain)(adain_params)\n",
        "    adain_params = Dropout(0.1)(adain_params)\n",
        "    return Model(inp_style_code, [adain_params], name='mlp')"
      ],
      "execution_count": 0,
      "outputs": []
    },
    {
      "cell_type": "code",
      "metadata": {
        "id": "LXrYA-j1_Zec",
        "colab_type": "code",
        "colab": {}
      },
      "source": [
        "def build_decoder(nc_in=n_dim_adain, input_size=IMAGE_SHAPE[0]//(2**n_downscale_content), n_dim_adain=n_dim_adain, n_resblocks=n_resblocks):\n",
        "  def adain(inp):\n",
        "      x = inp[0]\n",
        "\n",
        "      mean = tf.math.reduce_mean(x, axis=(1,2), keepdims=True)\n",
        "      var = tf.math.reduce_std(x, axis=(1,2), keepdims=True)\n",
        "      adain_bias = inp[1]\n",
        "      adain_bias = K.reshape(adain_bias, (-1, 1, 1, n_dim_adain))\n",
        "      adain_weight = inp[2]\n",
        "      adain_weight = K.reshape(adain_weight, (-1, 1, 1, n_dim_adain))        \n",
        "      out = tf.nn.batch_normalization(x, mean, var, adain_bias, adain_weight, variance_epsilon=1e-7)\n",
        "      return out\n",
        "      \n",
        "  def AdaptiveInstanceNorm2d(inp, adain_params, idx_adain):\n",
        "      assert inp.shape[-1] == n_dim_adain\n",
        "      x = inp\n",
        "      idx_head = idx_adain*2*n_dim_adain\n",
        "      adain_weight = Lambda(lambda x: x[:, idx_head:idx_head+n_dim_adain])(adain_params)\n",
        "      adain_bias = Lambda(lambda x: x[:, idx_head+n_dim_adain:idx_head+2*n_dim_adain])(adain_params)\n",
        "      out = Lambda(adain)([x, adain_bias, adain_weight])\n",
        "      return out\n",
        "    \n",
        "  def res_block_adain(inp, f, adain_params, idx_adain):\n",
        "      x = inp\n",
        "      x = ReflectPadding2D(x)\n",
        "      x = Conv2D(f, kernel_size=3, kernel_initializer='he_normal', \n",
        "                  kernel_regularizer=l2(1e-4), bias_regularizer=l2(1e-4),\n",
        "                  use_bias=False, padding='valid')(x)\n",
        "      x = Lambda(lambda x: AdaptiveInstanceNorm2d(x[0], x[1], idx_adain))([x, adain_params])     \n",
        "      x = Activation('relu')(x)\n",
        "      x = Dropout(0.1)(x)\n",
        "      \n",
        "      x = ReflectPadding2D(x)\n",
        "      x = Conv2D(f, kernel_size=3, kernel_initializer='he_normal', \n",
        "                  kernel_regularizer=l2(1e-4), bias_regularizer=l2(1e-4),\n",
        "                  use_bias=False, padding='valid')(x)\n",
        "      x = Lambda(lambda x: AdaptiveInstanceNorm2d(x[0], x[1], idx_adain+1))([x, adain_params])    \n",
        "      \n",
        "      x = add([x, inp])\n",
        "      x = Dropout(0.1)(x)\n",
        "      return x  \n",
        "  \n",
        "  inp_style = Input((n_dim_style,))\n",
        "  style_code = inp_style\n",
        "  mlp = build_mlp()\n",
        "  adain_params = mlp(style_code)\n",
        "  \n",
        "  inp_content = Input(shape=(input_size, input_size, nc_in))\n",
        "  content_code = inp_content\n",
        "  x = inp_content\n",
        "  \n",
        "  inp_noise = Input(shape=(n_dim_noise,))\n",
        "\n",
        "  for i in range(n_resblocks):\n",
        "      x = res_block_adain(x, nc_in, adain_params, 2*i) \n",
        "      \n",
        "  dim = 1\n",
        "  for i in range(n_downscale_content):\n",
        "      dim = dim if nc_in//dim <= 64 else dim*2\n",
        "      x = upscale_nn(x, nc_in//dim, use_norm=True)\n",
        "      x = add_noise(x, inp_noise)\n",
        "      x = Dropout(0.1)(x)\n",
        "\n",
        "  x = ReflectPadding2D(x, 3)\n",
        "  out = Conv2D(3, kernel_size=7, kernel_initializer='he_normal', \n",
        "                kernel_regularizer=l2(1e-4), \n",
        "                padding='valid', activation='tanh')(x)\n",
        "  return Model([inp_style, inp_content, inp_noise], out , name='decoder')"
      ],
      "execution_count": 0,
      "outputs": []
    },
    {
      "cell_type": "code",
      "metadata": {
        "id": "qEoCtJ_ZdteL",
        "colab_type": "code",
        "colab": {}
      },
      "source": [
        "style_encoder = build_style_encoder()\n",
        "content_encoder = build_content_encoder()\n",
        "decoder = build_decoder()"
      ],
      "execution_count": 0,
      "outputs": []
    },
    {
      "cell_type": "code",
      "metadata": {
        "id": "FBGjvC3YJ5d-",
        "colab_type": "code",
        "colab": {}
      },
      "source": [
        "input = Input(shape=IMAGE_SHAPE)\n",
        "noise = Input(shape=(n_dim_noise,))\n",
        "cross_style_code = Input(shape=(n_dim_style,))\n",
        "\n",
        "style_code = style_encoder(input)\n",
        "contnet_code = content_encoder(input)\n",
        "\n",
        "decoded = decoder([style_code, contnet_code, noise])\n",
        "\n",
        "style_code_prime = style_encoder(decoded)\n",
        "contnet_code_prime = content_encoder(decoded)\n",
        "\n",
        "content_input_width = IMAGE_SHAPE[0]//(2**n_downscale_content)\n",
        "content_input_height = IMAGE_SHAPE[1]//(2**n_downscale_content)\n",
        "\n",
        "cross_decoded_a = decoder([cross_style_code, contnet_code, noise])\n",
        "\n",
        "cross_style_code_a_prime = style_encoder(cross_decoded_a)\n",
        "cross_contnet_code_a_prime = content_encoder(cross_decoded_a)\n",
        "\n",
        "cross_decoded_style = decoder([style_code, cross_contnet_code_a_prime, noise])"
      ],
      "execution_count": 0,
      "outputs": []
    },
    {
      "cell_type": "code",
      "metadata": {
        "id": "s8_NE6iU6MwX",
        "colab_type": "code",
        "colab": {}
      },
      "source": [
        "generator = Model([input, noise], decoded, name='generator')"
      ],
      "execution_count": 0,
      "outputs": []
    },
    {
      "cell_type": "code",
      "metadata": {
        "id": "kBNpg53ofZ1n",
        "colab_type": "code",
        "colab": {}
      },
      "source": [
        "gen_loss = K.sum(mean_squared_error(input, decoded))\n",
        "\n",
        "style_loss = K.sum(mean_squared_error(style_code, style_code_prime))\n",
        "style_loss += K.sum(mean_squared_error(cross_style_code, cross_style_code_a_prime))\n",
        "style_loss += K.sum(mean_squared_error(input, cross_decoded_style))\n",
        "\n",
        "content_loss = K.sum(mean_squared_error(contnet_code, contnet_code_prime))\n",
        "content_loss += K.sum(mean_squared_error(content_extractor(input), content_extractor(cross_decoded_a)))\n",
        "\n",
        "loss = gen_loss + style_loss + content_loss"
      ],
      "execution_count": 0,
      "outputs": []
    },
    {
      "cell_type": "code",
      "metadata": {
        "id": "dntYrhbdNpWB",
        "colab_type": "code",
        "colab": {
          "base_uri": "https://localhost:8080/",
          "height": 54
        },
        "outputId": "fffb2a30-9b4c-4633-e7de-c0eff507177f"
      },
      "source": [
        "trainer = Model([input, noise, cross_style_code], decoded, name='trainer')\n",
        "trainer.add_loss(loss)\n",
        "trainer.compile(optimizer=Adam())"
      ],
      "execution_count": 17,
      "outputs": [
        {
          "output_type": "stream",
          "text": [
            "WARNING:tensorflow:Output decoder missing from loss dictionary. We assume this was done on purpose. The fit and evaluate APIs will not be expecting any data to be passed to decoder.\n"
          ],
          "name": "stdout"
        }
      ]
    },
    {
      "cell_type": "code",
      "metadata": {
        "id": "Doas4E9zLqfx",
        "colab_type": "code",
        "outputId": "c7eae4ce-3ee2-4911-963e-725ab01e8c49",
        "colab": {
          "base_uri": "https://localhost:8080/",
          "height": 54
        }
      },
      "source": [
        "from google.colab import drive\n",
        "drive.mount('/content/drive')"
      ],
      "execution_count": 18,
      "outputs": [
        {
          "output_type": "stream",
          "text": [
            "Drive already mounted at /content/drive; to attempt to forcibly remount, call drive.mount(\"/content/drive\", force_remount=True).\n"
          ],
          "name": "stdout"
        }
      ]
    },
    {
      "cell_type": "code",
      "metadata": {
        "id": "jRiStYN-0BS3",
        "colab_type": "code",
        "colab": {}
      },
      "source": [
        "workspace_path = '/content/drive/My Drive/Deep Learning'"
      ],
      "execution_count": 0,
      "outputs": []
    },
    {
      "cell_type": "code",
      "metadata": {
        "id": "az3e7p4zOr5-",
        "colab_type": "code",
        "colab": {}
      },
      "source": [
        "def find_files(directory, extension):\n",
        "  try:\n",
        "    file_list = []\n",
        "    for file in os.listdir(directory):\n",
        "      if file.endswith('.' + extension):\n",
        "        file_list.append(os.path.splitext(os.path.basename(file))[0])\n",
        "    return file_list\n",
        "  except:\n",
        "    print('directory not found')"
      ],
      "execution_count": 0,
      "outputs": []
    },
    {
      "cell_type": "code",
      "metadata": {
        "id": "NVDUNGsiLyCO",
        "colab_type": "code",
        "colab": {}
      },
      "source": [
        "# !cp '$workspace_path/img_align_celeba.zip' .\n",
        "# !unzip -qq img_align_celeba.zip"
      ],
      "execution_count": 0,
      "outputs": []
    },
    {
      "cell_type": "code",
      "metadata": {
        "id": "G46RELT5PLIf",
        "colab_type": "code",
        "colab": {}
      },
      "source": [
        "input_path = './img_align_celeba'\n",
        "ext = 'jpg'\n",
        "input_image_files = find_files(input_path, ext)\n",
        "input_image_files.sort()"
      ],
      "execution_count": 0,
      "outputs": []
    },
    {
      "cell_type": "code",
      "metadata": {
        "id": "6jmf1iM34v7g",
        "colab_type": "code",
        "colab": {}
      },
      "source": [
        "input_image_files = input_image_files[20000:25000]"
      ],
      "execution_count": 0,
      "outputs": []
    },
    {
      "cell_type": "code",
      "metadata": {
        "id": "yPZUKsPz4Y2r",
        "colab_type": "code",
        "colab": {}
      },
      "source": [
        "# !cp '$workspace_path/cartoonset10k.zip' .\n",
        "# !unzip -qq cartoonset10k.zip"
      ],
      "execution_count": 0,
      "outputs": []
    },
    {
      "cell_type": "code",
      "metadata": {
        "id": "X-8wSKcq4Ul2",
        "colab_type": "code",
        "colab": {}
      },
      "source": [
        "input_path = './cartoonset10k'\n",
        "ext = 'png'\n",
        "input_image_files = find_files(input_path, ext)\n",
        "input_image_files.sort()"
      ],
      "execution_count": 0,
      "outputs": []
    },
    {
      "cell_type": "code",
      "metadata": {
        "id": "gCqPOAuz4ryJ",
        "colab_type": "code",
        "colab": {}
      },
      "source": [
        "input_image_files = input_image_files[5000:10000]"
      ],
      "execution_count": 0,
      "outputs": []
    },
    {
      "cell_type": "code",
      "metadata": {
        "id": "aT6XKIGAPY3o",
        "colab_type": "code",
        "outputId": "7fa7761b-77bb-44b5-ff4d-0e092ce4a24d",
        "colab": {
          "base_uri": "https://localhost:8080/",
          "height": 51
        }
      },
      "source": [
        "x_train = []\n",
        "\n",
        "num_of_files = len(input_image_files)\n",
        "print('number of files', num_of_files)\n",
        "for idx, file in enumerate(input_image_files):\n",
        "  with Image.open(input_path + '/' + file + '.' + ext) as image:\n",
        "    if(image.mode != 'RGB'):\n",
        "      image = image.convert('RGB')\n",
        "    \n",
        "    new_width = IMAGE_SHAPE[0]\n",
        "    new_height = IMAGE_SHAPE[1]\n",
        "    width, height = image.size\n",
        "    aspect_ratio = width / height\n",
        "    if (width > height):\n",
        "      t_width = int(aspect_ratio * new_height)\n",
        "      image = image.resize((t_width, new_height))\n",
        "      left = int((t_width - new_width) / 2)\n",
        "      top = 0\n",
        "      right = int((t_width + new_width) / 2)\n",
        "      bottom = new_height\n",
        "    else:\n",
        "      t_height = int(new_width / aspect_ratio)\n",
        "      image = image.resize((new_width, t_height))\n",
        "      left = 0\n",
        "      top = int((t_height - new_height) / 2)\n",
        "      right = new_width\n",
        "      bottom = int((t_height + new_height) / 2)\n",
        "\n",
        "    image = image.crop((left, top, right, bottom))\n",
        "    x_train.append(np.array(image))\n",
        "  sys.stdout.write('\\r%.2f %%' % ((idx + 1) * 100.0 / num_of_files))\n",
        "\n",
        "x_train = np.array(x_train).astype('float32') / 255"
      ],
      "execution_count": 58,
      "outputs": [
        {
          "output_type": "stream",
          "text": [
            "number of files 5000\n",
            "100.00 %"
          ],
          "name": "stdout"
        }
      ]
    },
    {
      "cell_type": "code",
      "metadata": {
        "id": "9xatDeYVFOEB",
        "colab_type": "code",
        "colab": {}
      },
      "source": [
        "model_id = 5"
      ],
      "execution_count": 0,
      "outputs": []
    },
    {
      "cell_type": "code",
      "metadata": {
        "id": "iXLxiFNj3PHB",
        "colab_type": "code",
        "colab": {}
      },
      "source": [
        "!cp '{workspace_path}/munit_style_enc_64_{model_id}.h5' .\n",
        "style_encoder.load_weights('munit_style_enc_64_' + str(model_id) + '.h5')\n",
        "!cp '{workspace_path}/munit_content_enc_64_{model_id}.h5' .\n",
        "content_encoder.load_weights('munit_content_enc_64_' + str(model_id) + '.h5')\n",
        "!cp '{workspace_path}/munit_decoder_64_{model_id}.h5' .\n",
        "decoder.load_weights('munit_decoder_64_' + str(model_id) + '.h5')"
      ],
      "execution_count": 0,
      "outputs": []
    },
    {
      "cell_type": "code",
      "metadata": {
        "id": "O2JXjmXdjJWk",
        "colab_type": "code",
        "colab": {}
      },
      "source": [
        "epochs = 1"
      ],
      "execution_count": 0,
      "outputs": []
    },
    {
      "cell_type": "code",
      "metadata": {
        "id": "lrauduXASqd_",
        "colab_type": "code",
        "outputId": "02f1655d-0748-4867-cc19-39a7ef565d6f",
        "colab": {
          "base_uri": "https://localhost:8080/",
          "height": 51
        }
      },
      "source": [
        "for i in range(epochs):\n",
        "  noise = tf.random.normal(shape=(x_train.shape[0], n_dim_noise,))\n",
        "  cross_style_code = tf.random.normal(shape=(x_train.shape[0], n_dim_style,))\n",
        "  history = trainer.fit([x_train, noise, cross_style_code], batch_size=batch_size, epochs=1)\n",
        "  style_encoder.save('/content/drive/My Drive/Deep Learning/munit_style_enc_64_'+ str(model_id) + '.h5', overwrite=True)\n",
        "  content_encoder.save('/content/drive/My Drive/Deep Learning/munit_content_enc_64_'+ str(model_id) + '.h5', overwrite=True)\n",
        "  decoder.save('/content/drive/My Drive/Deep Learning/munit_decoder_64_'+ str(model_id) + '.h5', overwrite=True)"
      ],
      "execution_count": 0,
      "outputs": [
        {
          "output_type": "stream",
          "text": [
            "Train on 5000 samples\n",
            " 100/5000 [..............................] - ETA: 6:22 - loss: 222.0114"
          ],
          "name": "stdout"
        }
      ]
    },
    {
      "cell_type": "code",
      "metadata": {
        "id": "ORBeErKANCEw",
        "colab_type": "code",
        "colab": {}
      },
      "source": [
        "noise = tf.random.normal(shape=(100, n_dim_noise,))\n",
        "y_predict = generator.predict([x_train[0:100], noise])"
      ],
      "execution_count": 0,
      "outputs": []
    },
    {
      "cell_type": "code",
      "metadata": {
        "id": "17MvW7lXN0p5",
        "colab_type": "code",
        "colab": {}
      },
      "source": [
        "style_predicted = style_encoder.predict(x_train[0:100])\n",
        "content_predicted = content_encoder.predict(x_train[0:100])"
      ],
      "execution_count": 0,
      "outputs": []
    },
    {
      "cell_type": "code",
      "metadata": {
        "id": "NAkF2ond_cJu",
        "colab_type": "code",
        "colab": {
          "base_uri": "https://localhost:8080/",
          "height": 85
        },
        "outputId": "8b16c17d-a06e-45ec-acae-cfff1cbe54a3"
      },
      "source": [
        "style_predicted[5]"
      ],
      "execution_count": 54,
      "outputs": [
        {
          "output_type": "execute_result",
          "data": {
            "text/plain": [
              "array([ 0.43479794,  0.38362515,  0.03377628, -0.14222725, -0.30894697,\n",
              "        0.18104509,  0.03626816, -0.04393474,  0.09657206,  0.19800037,\n",
              "       -0.00306265, -0.03262847,  0.66659683,  0.07263107, -0.12872161,\n",
              "       -0.09469887], dtype=float32)"
            ]
          },
          "metadata": {
            "tags": []
          },
          "execution_count": 54
        }
      ]
    },
    {
      "cell_type": "code",
      "metadata": {
        "id": "j0vofsObyJNc",
        "colab_type": "code",
        "colab": {}
      },
      "source": [
        "dec_style = tf.convert_to_tensor(style_predicted[0])\n",
        "dec_style = tf.reshape(dec_style, (1,16))\n",
        "\n",
        "dec_content = tf.convert_to_tensor(content_predicted[1])\n",
        "dec_content = tf.reshape(dec_content, (1,32,32,256))"
      ],
      "execution_count": 0,
      "outputs": []
    },
    {
      "cell_type": "code",
      "metadata": {
        "id": "0qCbcaStwNQ4",
        "colab_type": "code",
        "colab": {}
      },
      "source": [
        "noise = tf.random.normal(shape=(1, n_dim_noise,))\n",
        "decoder_predicted = decoder([dec_style, dec_content, noise])"
      ],
      "execution_count": 0,
      "outputs": []
    },
    {
      "cell_type": "code",
      "metadata": {
        "id": "ZE8MWrryN9Jq",
        "colab_type": "code",
        "outputId": "25087e94-afd0-4895-c041-b930f2515949",
        "colab": {
          "base_uri": "https://localhost:8080/",
          "height": 322
        }
      },
      "source": [
        "plt.imshow(decoder_predicted[0])"
      ],
      "execution_count": 267,
      "outputs": [
        {
          "output_type": "stream",
          "text": [
            "Clipping input data to the valid range for imshow with RGB data ([0..1] for floats or [0..255] for integers).\n"
          ],
          "name": "stderr"
        },
        {
          "output_type": "execute_result",
          "data": {
            "text/plain": [
              "<matplotlib.image.AxesImage at 0x7f00f87ef3c8>"
            ]
          },
          "metadata": {
            "tags": []
          },
          "execution_count": 267
        },
        {
          "output_type": "display_data",
          "data": {
            "image/png": "[encoded data removed]",
            "text/plain": [
              "<Figure size 432x288 with 1 Axes>"
            ]
          },
          "metadata": {
            "tags": []
          }
        }
      ]
    },
    {
      "cell_type": "code",
      "metadata": {
        "id": "xukCz1EjlVD6",
        "colab_type": "code",
        "outputId": "fdc9baa1-3eab-4d4a-d165-bce39c1c42d8",
        "colab": {
          "base_uri": "https://localhost:8080/",
          "height": 322
        }
      },
      "source": [
        "plt.imshow(y_predict[10])"
      ],
      "execution_count": 49,
      "outputs": [
        {
          "output_type": "stream",
          "text": [
            "Clipping input data to the valid range for imshow with RGB data ([0..1] for floats or [0..255] for integers).\n"
          ],
          "name": "stderr"
        },
        {
          "output_type": "execute_result",
          "data": {
            "text/plain": [
              "<matplotlib.image.AxesImage at 0x7f76a18567b8>"
            ]
          },
          "metadata": {
            "tags": []
          },
          "execution_count": 49
        },
        {
          "output_type": "display_data",
          "data": {
            "image/png": "[encoded data removed]",
            "text/plain": [
              "<Figure size 432x288 with 1 Axes>"
            ]
          },
          "metadata": {
            "tags": []
          }
        }
      ]
    },
    {
      "cell_type": "code",
      "metadata": {
        "id": "E-gtYh1lo2Xq",
        "colab_type": "code",
        "outputId": "1efcf05b-ba3a-467c-8130-be7464ecd730",
        "colab": {
          "base_uri": "https://localhost:8080/",
          "height": 285
        }
      },
      "source": [
        "plt.imshow(x_train[10])"
      ],
      "execution_count": 50,
      "outputs": [
        {
          "output_type": "execute_result",
          "data": {
            "text/plain": [
              "<matplotlib.image.AxesImage at 0x7f76a13799b0>"
            ]
          },
          "metadata": {
            "tags": []
          },
          "execution_count": 50
        },
        {
          "output_type": "display_data",
          "data": {
            "image/png": "[encoded data removed]",
            "text/plain": [
              "<Figure size 432x288 with 1 Axes>"
            ]
          },
          "metadata": {
            "tags": []
          }
        }
      ]
    }
  ]
}