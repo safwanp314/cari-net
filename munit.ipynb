{
  "nbformat": 4,
  "nbformat_minor": 0,
  "metadata": {
    "colab": {
      "name": "munit-cari.ipynb",
      "provenance": [],
      "collapsed_sections": [],
      "include_colab_link": true
    },
    "kernelspec": {
      "name": "python3",
      "display_name": "Python 3"
    },
    "accelerator": "GPU"
  },
  "cells": [
    {
      "cell_type": "markdown",
      "metadata": {
        "id": "view-in-github",
        "colab_type": "text"
      },
      "source": [
        "<a href=\"https://colab.research.google.com/github/safwanp314/cari-net/blob/master/munit.ipynb\" target=\"_parent\"><img src=\"https://colab.research.google.com/assets/colab-badge.svg\" alt=\"Open In Colab\"/></a>"
      ]
    },
    {
      "cell_type": "code",
      "metadata": {
        "id": "zNaUOdfheZ6H",
        "colab_type": "code",
        "colab": {}
      },
      "source": [
        "# %%capture\n",
        "# !wget https://github.com/shaoanlu/faceswap-GAN/raw/master/networks/instance_normalization.py\n",
        "# !wget https://raw.githubusercontent.com/shaoanlu/faceswap-GAN/master/networks/GroupNormalization.py"
      ],
      "execution_count": 0,
      "outputs": []
    },
    {
      "cell_type": "code",
      "metadata": {
        "id": "dxBrkZxTd2qu",
        "colab_type": "code",
        "colab": {}
      },
      "source": [
        "import tensorflow as tf\n",
        "from keras.models import Sequential, Model\n",
        "from keras.layers import *\n",
        "from keras.layers.advanced_activations import LeakyReLU\n",
        "from keras.activations import relu\n",
        "from keras.optimizers import Adam\n",
        "from keras.regularizers import l2\n",
        "from keras.metrics import mse\n",
        "import keras.backend as K"
      ],
      "execution_count": 0,
      "outputs": []
    },
    {
      "cell_type": "code",
      "metadata": {
        "id": "cHsJE3MCalwn",
        "colab_type": "code",
        "colab": {}
      },
      "source": [
        "from instance_normalization import InstanceNormalization\n",
        "from GroupNormalization import GroupNormalization"
      ],
      "execution_count": 0,
      "outputs": []
    },
    {
      "cell_type": "code",
      "metadata": {
        "id": "WzNlXhR6Z84m",
        "colab_type": "code",
        "colab": {}
      },
      "source": [
        "# Architecture configs\n",
        "IMAGE_SHAPE = (128, 128, 3)\n",
        "\n",
        "# number of input channels of generators\n",
        "nc_in = 3\n",
        "\n",
        "# style latent dim\n",
        "n_dim_style = 8\n",
        "\n",
        "# number of residual blocks in decoder and content encoder\n",
        "n_resblocks = 3\n",
        "\n",
        "n_dim_adain = 256\n",
        "\n",
        "# number of channels of the first conv2d of encoder\n",
        "nc_base = 64\n",
        "# number of content encoder dowscaling\n",
        "n_downscale_content = 2\n",
        "\n",
        "use_groupnorm=False\n"
      ],
      "execution_count": 0,
      "outputs": []
    },
    {
      "cell_type": "code",
      "metadata": {
        "id": "-YJcCsXNbYfa",
        "colab_type": "code",
        "colab": {}
      },
      "source": [
        "##################################################################################\n",
        "# Basic Blocks\n",
        "##################################################################################\n",
        "def conv_block(input_tensor, f, k=3, strides=2, use_norm=False):\n",
        "    x = input_tensor\n",
        "    x = ReflectPadding2D(x)\n",
        "    x = Conv2D(f, kernel_size=k, strides=strides, kernel_initializer='he_normal',\n",
        "               kernel_regularizer=l2(1e-4),\n",
        "               use_bias=(not use_norm), padding='valid')(x)\n",
        "    if use_norm:\n",
        "        x = InstanceNormalization(epsilon=1e-5)(x)\n",
        "    x = Activation('relu')(x)\n",
        "    return x\n",
        "\n",
        "def upscale_nn(inp, f, use_norm=False):\n",
        "    x = inp\n",
        "    x = UpSampling2D()(x)\n",
        "    x = ReflectPadding2D(x, 2)\n",
        "    x = Conv2D(f, kernel_size=5, kernel_initializer='he_normal', \n",
        "               kernel_regularizer=l2(1e-4), \n",
        "               use_bias=(not use_norm), padding='valid')(x)\n",
        "    if use_norm:\n",
        "        if use_groupnorm:\n",
        "            x = GroupNormalization(group=32)(x)\n",
        "        else:\n",
        "            x = GroupNormalization(group=f)(x) # group=f equivalant to layer norm\n",
        "    x = Activation('relu')(x)\n",
        "    return x\n",
        "  \n",
        "def ReflectPadding2D(x, pad=1):\n",
        "    x = Lambda(lambda x: tf.pad(x, [[0, 0], [pad, pad], [pad, pad], [0, 0]], mode='REFLECT'))(x)\n",
        "    return x"
      ],
      "execution_count": 0,
      "outputs": []
    },
    {
      "cell_type": "code",
      "metadata": {
        "id": "GE0H-Dy25NEM",
        "colab_type": "code",
        "colab": {}
      },
      "source": [
        "def build_style_encoder(nc_in=3, input_size=IMAGE_SHAPE[0], n_dim_style=n_dim_style):\n",
        "  # number of channels of the first conv2d of encoder\n",
        "  nc_base = 64\n",
        "  # number of style encoder dowscaling\n",
        "  n_dowscale_style = 4\n",
        "\n",
        "  # Style encoder architecture \n",
        "  inp = Input(shape=(input_size, input_size, nc_in))\n",
        "  x = ReflectPadding2D(inp, 3)\n",
        "  x = Conv2D(64, kernel_size=7, kernel_initializer='he_normal', \n",
        "              kernel_regularizer=l2(1e-4),\n",
        "              use_bias=True, padding='valid')(x)\n",
        "  x = Activation('relu')(x)   \n",
        "  x = Dropout(0.1)(x)\n",
        "\n",
        "  dim = 1\n",
        "  for i in range(n_dowscale_style):\n",
        "      dim = 4 if dim >= 4 else dim*2\n",
        "      x = conv_block(x, dim * nc_base)\n",
        "      x = Dropout(0.1)(x)\n",
        "\n",
        "  x = GlobalAveragePooling2D()(x)    \n",
        "      \n",
        "  # Style code\n",
        "  style_code = Dense(n_dim_style, kernel_regularizer=l2(1e-4))(x)\n",
        "  \n",
        "  return Model(inp, style_code)"
      ],
      "execution_count": 0,
      "outputs": []
    },
    {
      "cell_type": "code",
      "metadata": {
        "id": "qEoCtJ_ZdteL",
        "colab_type": "code",
        "outputId": "e302984e-4e6d-4e7f-b353-a80e4e2f9364",
        "colab": {
          "base_uri": "https://localhost:8080/",
          "height": 258
        }
      },
      "source": [
        "style_encoder = build_style_encoder()"
      ],
      "execution_count": 7,
      "outputs": [
        {
          "output_type": "stream",
          "text": [
            "WARNING:tensorflow:From /usr/local/lib/python3.6/dist-packages/keras/backend/tensorflow_backend.py:66: The name tf.get_default_graph is deprecated. Please use tf.compat.v1.get_default_graph instead.\n",
            "\n",
            "WARNING:tensorflow:From /usr/local/lib/python3.6/dist-packages/keras/backend/tensorflow_backend.py:541: The name tf.placeholder is deprecated. Please use tf.compat.v1.placeholder instead.\n",
            "\n",
            "WARNING:tensorflow:From /usr/local/lib/python3.6/dist-packages/keras/backend/tensorflow_backend.py:4479: The name tf.truncated_normal is deprecated. Please use tf.random.truncated_normal instead.\n",
            "\n",
            "WARNING:tensorflow:From /usr/local/lib/python3.6/dist-packages/keras/backend/tensorflow_backend.py:148: The name tf.placeholder_with_default is deprecated. Please use tf.compat.v1.placeholder_with_default instead.\n",
            "\n",
            "WARNING:tensorflow:From /usr/local/lib/python3.6/dist-packages/keras/backend/tensorflow_backend.py:3733: calling dropout (from tensorflow.python.ops.nn_ops) with keep_prob is deprecated and will be removed in a future version.\n",
            "Instructions for updating:\n",
            "Please use `rate` instead of `keep_prob`. Rate should be set to `rate = 1 - keep_prob`.\n",
            "WARNING:tensorflow:From /usr/local/lib/python3.6/dist-packages/keras/backend/tensorflow_backend.py:4432: The name tf.random_uniform is deprecated. Please use tf.random.uniform instead.\n",
            "\n"
          ],
          "name": "stdout"
        }
      ]
    },
    {
      "cell_type": "code",
      "metadata": {
        "id": "29LdqXn4ZYy7",
        "colab_type": "code",
        "colab": {}
      },
      "source": [
        "def build_content_encoder(nc_in=3, input_size=IMAGE_SHAPE[0], n_resblocks=n_resblocks):\n",
        "  # Content encoder architecture \n",
        "  def res_block_content(input_tensor, f):\n",
        "      x = input_tensor\n",
        "      x = ReflectPadding2D(x)\n",
        "      x = Conv2D(f, kernel_size=3, kernel_initializer='he_normal', \n",
        "                  kernel_regularizer=l2(1e-4),\n",
        "                  use_bias=False, padding='valid')(x)\n",
        "      x = InstanceNormalization(epsilon=1e-5)(x)\n",
        "      x = Activation('relu')(x)\n",
        "      x = ReflectPadding2D(x)\n",
        "      x = Conv2D(f, kernel_size=3, kernel_initializer='he_normal', \n",
        "                  kernel_regularizer=l2(1e-4),\n",
        "                  use_bias=False, padding='valid')(x)\n",
        "      x = Dropout(0.1)(x)\n",
        "      x = InstanceNormalization(epsilon=1e-5)(x)\n",
        "      x = add([x, input_tensor])\n",
        "      return x      \n",
        "  \n",
        "  inp = Input(shape=(input_size, input_size, nc_in))\n",
        "  x = ReflectPadding2D(inp, 3)\n",
        "  x = Conv2D(64, kernel_size=7, kernel_initializer='he_normal', \n",
        "              kernel_regularizer=l2(1e-4),\n",
        "              use_bias=False, padding=\"valid\")(x)\n",
        "  x = InstanceNormalization()(x) #\n",
        "  x = Activation('relu')(x) #\n",
        "  x = Dropout(0.1)(x)\n",
        "\n",
        "  \n",
        "  dim = 1\n",
        "  ds = 2**n_downscale_content\n",
        "  for i in range(n_downscale_content):\n",
        "      dim = 4 if dim >= 4 else dim*2\n",
        "      x = conv_block(x, dim*nc_base, use_norm=True)\n",
        "      x = Dropout(0.1)(x)\n",
        "\n",
        "  for i in range(n_resblocks):\n",
        "      x = res_block_content(x, dim*nc_base)\n",
        "      x = Dropout(0.1)(x)\n",
        "\n",
        "  # Content code\n",
        "  content_code = x\n",
        "  return Model(inp, content_code)"
      ],
      "execution_count": 0,
      "outputs": []
    },
    {
      "cell_type": "code",
      "metadata": {
        "id": "iRB9gWEggvFk",
        "colab_type": "code",
        "colab": {}
      },
      "source": [
        "content_encoder = build_content_encoder()"
      ],
      "execution_count": 0,
      "outputs": []
    },
    {
      "cell_type": "code",
      "metadata": {
        "id": "WJCTaheGcwFZ",
        "colab_type": "code",
        "colab": {}
      },
      "source": [
        "def build_mlp(n_dim_style=n_dim_style, n_dim_adain=n_dim_adain, n_blk=3, n_adain=2*n_resblocks):\n",
        "    # MLP for AdaIN parameters\n",
        "    inp_style_code = Input(shape=(n_dim_style,))\n",
        "\n",
        "    adain_params = Dense(n_dim_adain, activation='relu')(inp_style_code)\n",
        "    for i in range(n_blk - 2):\n",
        "        adain_params = Dense(n_dim_adain, activation='relu')(adain_params)\n",
        "    adain_params = Dense(2*n_adain*n_dim_adain)(adain_params)\n",
        "    adain_params = Dropout(0.1)(adain_params)\n",
        "    return Model(inp_style_code, [adain_params])"
      ],
      "execution_count": 0,
      "outputs": []
    },
    {
      "cell_type": "code",
      "metadata": {
        "id": "LXrYA-j1_Zec",
        "colab_type": "code",
        "colab": {}
      },
      "source": [
        "def build_decoder(nc_in=256, input_size=IMAGE_SHAPE[0]//(2**n_downscale_content), n_dim_adain=256, n_resblocks=n_resblocks):\n",
        "  def adain(inp):\n",
        "      x = inp[0]\n",
        "      mean, var = tf.nn.moments(x, [1,2], keep_dims=True)\n",
        "      adain_bias = inp[1]\n",
        "      adain_bias = K.reshape(adain_bias, (-1, 1, 1, n_dim_adain))\n",
        "      adain_weight = inp[2]\n",
        "      adain_weight = K.reshape(adain_weight, (-1, 1, 1, n_dim_adain))        \n",
        "      out = tf.nn.batch_normalization(x, mean, var, adain_bias, adain_weight, variance_epsilon=1e-7)\n",
        "      return out\n",
        "      \n",
        "  def AdaptiveInstanceNorm2d(inp, adain_params, idx_adain):\n",
        "      assert inp.shape[-1] == n_dim_adain\n",
        "      x = inp\n",
        "      idx_head = idx_adain*2*n_dim_adain\n",
        "      adain_weight = Lambda(lambda x: x[:, idx_head:idx_head+n_dim_adain])(adain_params)\n",
        "      adain_bias = Lambda(lambda x: x[:, idx_head+n_dim_adain:idx_head+2*n_dim_adain])(adain_params)\n",
        "      out = Lambda(adain)([x, adain_bias, adain_weight])\n",
        "      return out\n",
        "    \n",
        "  def res_block_adain(inp, f, adain_params, idx_adain):\n",
        "      x = inp\n",
        "      x = ReflectPadding2D(x)\n",
        "      x = Conv2D(f, kernel_size=3, kernel_initializer='he_normal', \n",
        "                  kernel_regularizer=l2(1e-4), bias_regularizer=l2(1e-4),\n",
        "                  use_bias=False, padding='valid')(x)\n",
        "      x = Lambda(lambda x: AdaptiveInstanceNorm2d(x[0], x[1], idx_adain))([x, adain_params])     \n",
        "      x = Activation('relu')(x)\n",
        "      x = Dropout(0.1)(x)\n",
        "      \n",
        "      x = ReflectPadding2D(x)\n",
        "      x = Conv2D(f, kernel_size=3, kernel_initializer='he_normal', \n",
        "                  kernel_regularizer=l2(1e-4), bias_regularizer=l2(1e-4),\n",
        "                  use_bias=False, padding='valid')(x)\n",
        "      x = Lambda(lambda x: AdaptiveInstanceNorm2d(x[0], x[1], idx_adain+1))([x, adain_params])    \n",
        "      \n",
        "      x = add([x, inp])\n",
        "      x = Dropout(0.1)(x)\n",
        "      return x  \n",
        "  \n",
        "  inp_style = Input((n_dim_style,))\n",
        "  style_code = inp_style\n",
        "  mlp = build_mlp()\n",
        "  adain_params = mlp(style_code)\n",
        "  \n",
        "  inp_content = Input(shape=(input_size, input_size, nc_in))\n",
        "  content_code = inp_content\n",
        "  x = inp_content\n",
        "  \n",
        "  for i in range(n_resblocks):\n",
        "      x = res_block_adain(x, nc_in, adain_params, 2*i) \n",
        "      \n",
        "  dim = 1\n",
        "  for i in range(n_downscale_content):\n",
        "      dim = dim if nc_in//dim <= 64 else dim*2\n",
        "      # Note: original MUNIT uses layer norm instead of group norm in upscale blocks\n",
        "      x = upscale_nn(x, nc_in//dim, use_norm=True)\n",
        "      x = Dropout(0.1)(x)\n",
        "  x = ReflectPadding2D(x, 3)\n",
        "  out = Conv2D(3, kernel_size=7, kernel_initializer='he_normal', \n",
        "                kernel_regularizer=l2(1e-4), \n",
        "                padding='valid', activation='tanh')(x)\n",
        "  return Model([inp_style, inp_content], [out, style_code, content_code])"
      ],
      "execution_count": 0,
      "outputs": []
    },
    {
      "cell_type": "code",
      "metadata": {
        "id": "Fqxw9CZmFNyl",
        "colab_type": "code",
        "outputId": "eee2ee7f-a2ea-4d46-9b98-1ed6a1c530d8",
        "colab": {
          "base_uri": "https://localhost:8080/",
          "height": 71
        }
      },
      "source": [
        "decoder = build_decoder()"
      ],
      "execution_count": 12,
      "outputs": [
        {
          "output_type": "stream",
          "text": [
            "WARNING:tensorflow:From /usr/local/lib/python3.6/dist-packages/keras/backend/tensorflow_backend.py:2239: The name tf.image.resize_nearest_neighbor is deprecated. Please use tf.compat.v1.image.resize_nearest_neighbor instead.\n",
            "\n"
          ],
          "name": "stdout"
        }
      ]
    },
    {
      "cell_type": "code",
      "metadata": {
        "id": "FBGjvC3YJ5d-",
        "colab_type": "code",
        "colab": {}
      },
      "source": [
        "input = Input(shape=IMAGE_SHAPE)\n",
        "style_code = style_encoder(input)\n",
        "contnet_code = content_encoder(input)\n",
        "decoded = decoder([style_code, contnet_code])\n",
        "generator = Model(input, decoded)"
      ],
      "execution_count": 0,
      "outputs": []
    },
    {
      "cell_type": "code",
      "metadata": {
        "id": "DzsBT9BHRvX1",
        "colab_type": "code",
        "outputId": "8eb0669f-ed45-4f5e-8b66-aaae19948817",
        "colab": {
          "base_uri": "https://localhost:8080/",
          "height": 306
        }
      },
      "source": [
        "generator.summary()"
      ],
      "execution_count": 14,
      "outputs": [
        {
          "output_type": "stream",
          "text": [
            "Model: \"model_5\"\n",
            "__________________________________________________________________________________________________\n",
            "Layer (type)                    Output Shape         Param #     Connected to                     \n",
            "==================================================================================================\n",
            "input_6 (InputLayer)            (None, 128, 128, 3)  0                                            \n",
            "__________________________________________________________________________________________________\n",
            "model_1 (Model)                 (None, 8)            1560712     input_6[0][0]                    \n",
            "__________________________________________________________________________________________________\n",
            "model_2 (Model)                 (None, 32, 32, 256)  3917010     input_6[0][0]                    \n",
            "__________________________________________________________________________________________________\n",
            "model_4 (Model)                 [(None, 128, 128, 3) 5430339     model_1[1][0]                    \n",
            "                                                                 model_2[1][0]                    \n",
            "==================================================================================================\n",
            "Total params: 10,908,061\n",
            "Trainable params: 10,908,061\n",
            "Non-trainable params: 0\n",
            "__________________________________________________________________________________________________\n"
          ],
          "name": "stdout"
        }
      ]
    },
    {
      "cell_type": "code",
      "metadata": {
        "id": "QX_GtdoWeCi-",
        "colab_type": "code",
        "colab": {}
      },
      "source": [
        "def build_loss(x, decoded):\n",
        "  z, style_code, content_code = decoded\n",
        "  return 10000 * mse(x, z)"
      ],
      "execution_count": 0,
      "outputs": []
    },
    {
      "cell_type": "code",
      "metadata": {
        "id": "xaId7VbQejnT",
        "colab_type": "code",
        "colab": {}
      },
      "source": [
        "loss = build_loss(input, decoded)\n",
        "generator.add_loss(loss)"
      ],
      "execution_count": 0,
      "outputs": []
    },
    {
      "cell_type": "code",
      "metadata": {
        "id": "T5XbP3DlKPQy",
        "colab_type": "code",
        "colab": {}
      },
      "source": [
        "generator.compile(optimizer=Adam(lr=0.0001))"
      ],
      "execution_count": 0,
      "outputs": []
    },
    {
      "cell_type": "code",
      "metadata": {
        "id": "Doas4E9zLqfx",
        "colab_type": "code",
        "outputId": "fe5c76ee-fd79-4e48-c6c5-8a7eb9a3e74c",
        "colab": {
          "base_uri": "https://localhost:8080/",
          "height": 54
        }
      },
      "source": [
        "from google.colab import drive\n",
        "drive.mount('/content/drive')"
      ],
      "execution_count": 18,
      "outputs": [
        {
          "output_type": "stream",
          "text": [
            "Drive already mounted at /content/drive; to attempt to forcibly remount, call drive.mount(\"/content/drive\", force_remount=True).\n"
          ],
          "name": "stdout"
        }
      ]
    },
    {
      "cell_type": "code",
      "metadata": {
        "id": "jRiStYN-0BS3",
        "colab_type": "code",
        "colab": {}
      },
      "source": [
        "workspace_path = '/content/drive/My Drive/Deep Learning'"
      ],
      "execution_count": 0,
      "outputs": []
    },
    {
      "cell_type": "code",
      "metadata": {
        "id": "NVDUNGsiLyCO",
        "colab_type": "code",
        "colab": {}
      },
      "source": [
        "# !cp '$workspace_path/img_align_celeba.zip' .\n",
        "# !unzip -qq img_align_celeba.zip"
      ],
      "execution_count": 0,
      "outputs": []
    },
    {
      "cell_type": "code",
      "metadata": {
        "id": "zV4NUHrEteN7",
        "colab_type": "code",
        "colab": {}
      },
      "source": [
        "!cp '$workspace_path/munit-generator_30.h5' ."
      ],
      "execution_count": 0,
      "outputs": []
    },
    {
      "cell_type": "code",
      "metadata": {
        "id": "CrtXCoZxPgNL",
        "colab_type": "code",
        "colab": {}
      },
      "source": [
        "import os\n",
        "import sys\n",
        "import numpy as np\n",
        "from PIL import Image"
      ],
      "execution_count": 0,
      "outputs": []
    },
    {
      "cell_type": "code",
      "metadata": {
        "id": "az3e7p4zOr5-",
        "colab_type": "code",
        "colab": {}
      },
      "source": [
        "def find_files(directory, extension):\n",
        "  try:\n",
        "    file_list = []\n",
        "    for file in os.listdir(directory):\n",
        "      if file.endswith('.' + extension):\n",
        "        file_list.append(os.path.splitext(os.path.basename(file))[0])\n",
        "    return file_list\n",
        "  except:\n",
        "    print('directory not found')"
      ],
      "execution_count": 0,
      "outputs": []
    },
    {
      "cell_type": "code",
      "metadata": {
        "id": "G46RELT5PLIf",
        "colab_type": "code",
        "colab": {}
      },
      "source": [
        "input_path = './img_align_celeba'\n",
        "ext = 'jpg'\n",
        "input_image_files = find_files(input_path, ext)\n",
        "input_image_files.sort()"
      ],
      "execution_count": 0,
      "outputs": []
    },
    {
      "cell_type": "code",
      "metadata": {
        "id": "mWskcY7UkuR4",
        "colab_type": "code",
        "outputId": "60689c40-592c-4665-8577-389556bd2884",
        "colab": {
          "base_uri": "https://localhost:8080/",
          "height": 34
        }
      },
      "source": [
        "len(input_image_files)"
      ],
      "execution_count": 61,
      "outputs": [
        {
          "output_type": "execute_result",
          "data": {
            "text/plain": [
              "202599"
            ]
          },
          "metadata": {
            "tags": []
          },
          "execution_count": 61
        }
      ]
    },
    {
      "cell_type": "code",
      "metadata": {
        "id": "CFTKoAU4R9nt",
        "colab_type": "code",
        "colab": {}
      },
      "source": [
        "input_image_files = input_image_files[150000:175000]"
      ],
      "execution_count": 0,
      "outputs": []
    },
    {
      "cell_type": "code",
      "metadata": {
        "id": "aT6XKIGAPY3o",
        "colab_type": "code",
        "outputId": "5e1bca7a-df90-4536-9dfb-2641a98d91a4",
        "colab": {
          "base_uri": "https://localhost:8080/",
          "height": 51
        }
      },
      "source": [
        "x_train = []\n",
        "\n",
        "num_of_files = len(input_image_files)\n",
        "print('number of files', num_of_files)\n",
        "for idx, file in enumerate(input_image_files):\n",
        "  with Image.open(input_path + '/' + file + '.' + ext) as image:\n",
        "    if(image.mode != 'RGB'):\n",
        "      image = image.convert('RGB')\n",
        "    image = image.resize((IMAGE_SHAPE[0],IMAGE_SHAPE[1]), Image.ANTIALIAS)\n",
        "    # image = ImageOps.equalize(image)\n",
        "    x_train.append(np.array(image))\n",
        "  sys.stdout.write('\\r%.2f %%' % ((idx + 1) * 100.0 / num_of_files))\n",
        "\n",
        "x_train = np.array(x_train).astype('float32') / 255"
      ],
      "execution_count": 63,
      "outputs": [
        {
          "output_type": "stream",
          "text": [
            "number of files 25000\n",
            "100.00 %"
          ],
          "name": "stdout"
        }
      ]
    },
    {
      "cell_type": "code",
      "metadata": {
        "id": "iXLxiFNj3PHB",
        "colab_type": "code",
        "colab": {
          "base_uri": "https://localhost:8080/",
          "height": 241
        },
        "outputId": "b74f5715-dad1-4440-9766-b8e80fd12e3d"
      },
      "source": [
        "generator.load_weights('munit-generator_30.h5')"
      ],
      "execution_count": 31,
      "outputs": [
        {
          "output_type": "stream",
          "text": [
            "WARNING:tensorflow:From /usr/local/lib/python3.6/dist-packages/keras/backend/tensorflow_backend.py:190: The name tf.get_default_session is deprecated. Please use tf.compat.v1.get_default_session instead.\n",
            "\n",
            "WARNING:tensorflow:From /usr/local/lib/python3.6/dist-packages/keras/backend/tensorflow_backend.py:197: The name tf.ConfigProto is deprecated. Please use tf.compat.v1.ConfigProto instead.\n",
            "\n",
            "WARNING:tensorflow:From /usr/local/lib/python3.6/dist-packages/keras/backend/tensorflow_backend.py:203: The name tf.Session is deprecated. Please use tf.compat.v1.Session instead.\n",
            "\n",
            "WARNING:tensorflow:From /usr/local/lib/python3.6/dist-packages/keras/backend/tensorflow_backend.py:207: The name tf.global_variables is deprecated. Please use tf.compat.v1.global_variables instead.\n",
            "\n",
            "WARNING:tensorflow:From /usr/local/lib/python3.6/dist-packages/keras/backend/tensorflow_backend.py:216: The name tf.is_variable_initialized is deprecated. Please use tf.compat.v1.is_variable_initialized instead.\n",
            "\n",
            "WARNING:tensorflow:From /usr/local/lib/python3.6/dist-packages/keras/backend/tensorflow_backend.py:223: The name tf.variables_initializer is deprecated. Please use tf.compat.v1.variables_initializer instead.\n",
            "\n"
          ],
          "name": "stdout"
        }
      ]
    },
    {
      "cell_type": "code",
      "metadata": {
        "id": "O2JXjmXdjJWk",
        "colab_type": "code",
        "colab": {}
      },
      "source": [
        "epochs = 1\n",
        "init = 35"
      ],
      "execution_count": 0,
      "outputs": []
    },
    {
      "cell_type": "code",
      "metadata": {
        "id": "lrauduXASqd_",
        "colab_type": "code",
        "outputId": "b9cbdfba-03b3-45d6-8abc-258ac3c9f425",
        "colab": {
          "base_uri": "https://localhost:8080/",
          "height": 119
        }
      },
      "source": [
        "for i in range(epochs):\n",
        "  generator.fit(x_train, batch_size=1, epochs=3)\n",
        "  generator.save_weights('/content/drive/My Drive/Deep Learning/munit-generator_'+ str(i + init) + '.h5')"
      ],
      "execution_count": 59,
      "outputs": [
        {
          "output_type": "stream",
          "text": [
            "Epoch 1/3\n",
            "25000/25000 [==============================] - 1364s 55ms/step - loss: 62.8391\n",
            "Epoch 2/3\n",
            "25000/25000 [==============================] - 1359s 54ms/step - loss: 61.1403\n",
            "Epoch 3/3\n",
            "25000/25000 [==============================] - 1375s 55ms/step - loss: 60.3064\n"
          ],
          "name": "stdout"
        }
      ]
    },
    {
      "cell_type": "code",
      "metadata": {
        "id": "ORBeErKANCEw",
        "colab_type": "code",
        "colab": {}
      },
      "source": [
        "y_predict = generator.predict(x_train[0:100])"
      ],
      "execution_count": 0,
      "outputs": []
    },
    {
      "cell_type": "code",
      "metadata": {
        "id": "hU3lZho1NKwN",
        "colab_type": "code",
        "colab": {}
      },
      "source": [
        "import matplotlib.pyplot as plt\n",
        "%matplotlib inline"
      ],
      "execution_count": 0,
      "outputs": []
    },
    {
      "cell_type": "code",
      "metadata": {
        "id": "PBCIgl7LNQ8U",
        "colab_type": "code",
        "outputId": "7a5d6cfc-867d-452e-a121-4790d7a96a71",
        "colab": {
          "base_uri": "https://localhost:8080/",
          "height": 285
        }
      },
      "source": [
        "plt.imshow(y_predict[0][9])"
      ],
      "execution_count": 72,
      "outputs": [
        {
          "output_type": "execute_result",
          "data": {
            "text/plain": [
              "<matplotlib.image.AxesImage at 0x7fc0f8c5a780>"
            ]
          },
          "metadata": {
            "tags": []
          },
          "execution_count": 72
        },
        {
          "output_type": "display_data",
          "data": {
            "image/png": "[encoded data removed]",
            "text/plain": [
              "<Figure size 432x288 with 1 Axes>"
            ]
          },
          "metadata": {
            "tags": []
          }
        }
      ]
    },
    {
      "cell_type": "code",
      "metadata": {
        "id": "E-gtYh1lo2Xq",
        "colab_type": "code",
        "colab": {
          "base_uri": "https://localhost:8080/",
          "height": 285
        },
        "outputId": "cb0e3249-5fd1-4cdd-b971-529fa04ea217"
      },
      "source": [
        "plt.imshow(x_train[6])"
      ],
      "execution_count": 50,
      "outputs": [
        {
          "output_type": "execute_result",
          "data": {
            "text/plain": [
              "<matplotlib.image.AxesImage at 0x7fc0f90abb38>"
            ]
          },
          "metadata": {
            "tags": []
          },
          "execution_count": 50
        },
        {
          "output_type": "display_data",
          "data": {
            "image/png": "[encoded data removed]",
            "text/plain": [
              "<Figure size 432x288 with 1 Axes>"
            ]
          },
          "metadata": {
            "tags": []
          }
        }
      ]
    }
  ]
}